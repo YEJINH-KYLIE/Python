{
 "cells": [
  {
   "cell_type": "markdown",
   "metadata": {},
   "source": [
    "## 여러 모델 사용하기\n",
    "* IBM sample datasets\n",
    "https://www.kaggle.com/blastchar/telco-customer-churn\n",
    "\n",
    "* Demographic info: \n",
    "    * Gender, SeniorCitizen, Partner, Dependents\n",
    "* Services subscribed: \n",
    "    * PhoneService, MultipleLine, InternetService, OnlineSecurity, OnlineBackup, DeviceProtection, TechSupport, StreamingTV, StreamingMovies\n",
    "* Customer account info:\n",
    "    * CustomerID, Contract, PaperlessBilling, PaymentMethod, MonthlyCharges, TotalCharges, Tenure"
   ]
  },
  {
   "cell_type": "code",
   "execution_count": 1,
   "metadata": {},
   "outputs": [],
   "source": [
    "import pandas as pd\n",
    "import numpy as np\n",
    "import seaborn as sns\n",
    "import matplotlib.pyplot as plt"
   ]
  },
  {
   "cell_type": "code",
   "execution_count": 2,
   "metadata": {},
   "outputs": [],
   "source": [
    "from IPython.display import set_matplotlib_formats\n",
    "\n",
    "set_matplotlib_formats('retina')"
   ]
  },
  {
   "cell_type": "markdown",
   "metadata": {},
   "source": [
    "## 데이터 로드하기"
   ]
  },
  {
   "cell_type": "code",
   "execution_count": 11,
   "metadata": {},
   "outputs": [
    {
     "data": {
      "text/plain": [
       "(7043, 50)"
      ]
     },
     "execution_count": 11,
     "metadata": {},
     "output_type": "execute_result"
    }
   ],
   "source": [
    "df = pd.read_csv(\"data/telco_feature.csv\")\n",
    "df.shape"
   ]
  },
  {
   "cell_type": "code",
   "execution_count": 12,
   "metadata": {},
   "outputs": [],
   "source": [
    "df = df.set_index(\"customerID\")"
   ]
  },
  {
   "cell_type": "code",
   "execution_count": 13,
   "metadata": {},
   "outputs": [
    {
     "data": {
      "text/html": [
       "<div>\n",
       "<style scoped>\n",
       "    .dataframe tbody tr th:only-of-type {\n",
       "        vertical-align: middle;\n",
       "    }\n",
       "\n",
       "    .dataframe tbody tr th {\n",
       "        vertical-align: top;\n",
       "    }\n",
       "\n",
       "    .dataframe thead th {\n",
       "        text-align: right;\n",
       "    }\n",
       "</style>\n",
       "<table border=\"1\" class=\"dataframe\">\n",
       "  <thead>\n",
       "    <tr style=\"text-align: right;\">\n",
       "      <th></th>\n",
       "      <th>Churn_bool</th>\n",
       "      <th>Dependents_bool</th>\n",
       "      <th>PhoneService_bool</th>\n",
       "      <th>gender_bool</th>\n",
       "      <th>Partner_bool</th>\n",
       "      <th>PaperlessBilling_bool</th>\n",
       "      <th>DeviceProtection_No</th>\n",
       "      <th>DeviceProtection_No internet service</th>\n",
       "      <th>DeviceProtection_Yes</th>\n",
       "      <th>PaymentMethod_Bank transfer (automatic)</th>\n",
       "      <th>...</th>\n",
       "      <th>tenure_group_0-20</th>\n",
       "      <th>tenure_group_20-40</th>\n",
       "      <th>tenure_group_40-60</th>\n",
       "      <th>tenure_group_60plus</th>\n",
       "      <th>InternetService_DSL</th>\n",
       "      <th>InternetService_Fiber optic</th>\n",
       "      <th>InternetService_No</th>\n",
       "      <th>StreamingTV_No</th>\n",
       "      <th>StreamingTV_No internet service</th>\n",
       "      <th>StreamingTV_Yes</th>\n",
       "    </tr>\n",
       "    <tr>\n",
       "      <th>customerID</th>\n",
       "      <th></th>\n",
       "      <th></th>\n",
       "      <th></th>\n",
       "      <th></th>\n",
       "      <th></th>\n",
       "      <th></th>\n",
       "      <th></th>\n",
       "      <th></th>\n",
       "      <th></th>\n",
       "      <th></th>\n",
       "      <th></th>\n",
       "      <th></th>\n",
       "      <th></th>\n",
       "      <th></th>\n",
       "      <th></th>\n",
       "      <th></th>\n",
       "      <th></th>\n",
       "      <th></th>\n",
       "      <th></th>\n",
       "      <th></th>\n",
       "      <th></th>\n",
       "    </tr>\n",
       "  </thead>\n",
       "  <tbody>\n",
       "    <tr>\n",
       "      <th>7590-VHVEG</th>\n",
       "      <td>False</td>\n",
       "      <td>False</td>\n",
       "      <td>False</td>\n",
       "      <td>False</td>\n",
       "      <td>True</td>\n",
       "      <td>True</td>\n",
       "      <td>1</td>\n",
       "      <td>0</td>\n",
       "      <td>0</td>\n",
       "      <td>0</td>\n",
       "      <td>...</td>\n",
       "      <td>1</td>\n",
       "      <td>0</td>\n",
       "      <td>0</td>\n",
       "      <td>0</td>\n",
       "      <td>1</td>\n",
       "      <td>0</td>\n",
       "      <td>0</td>\n",
       "      <td>1</td>\n",
       "      <td>0</td>\n",
       "      <td>0</td>\n",
       "    </tr>\n",
       "    <tr>\n",
       "      <th>5575-GNVDE</th>\n",
       "      <td>False</td>\n",
       "      <td>False</td>\n",
       "      <td>True</td>\n",
       "      <td>True</td>\n",
       "      <td>False</td>\n",
       "      <td>False</td>\n",
       "      <td>0</td>\n",
       "      <td>0</td>\n",
       "      <td>1</td>\n",
       "      <td>0</td>\n",
       "      <td>...</td>\n",
       "      <td>0</td>\n",
       "      <td>1</td>\n",
       "      <td>0</td>\n",
       "      <td>0</td>\n",
       "      <td>1</td>\n",
       "      <td>0</td>\n",
       "      <td>0</td>\n",
       "      <td>1</td>\n",
       "      <td>0</td>\n",
       "      <td>0</td>\n",
       "    </tr>\n",
       "    <tr>\n",
       "      <th>3668-QPYBK</th>\n",
       "      <td>True</td>\n",
       "      <td>False</td>\n",
       "      <td>True</td>\n",
       "      <td>True</td>\n",
       "      <td>False</td>\n",
       "      <td>True</td>\n",
       "      <td>1</td>\n",
       "      <td>0</td>\n",
       "      <td>0</td>\n",
       "      <td>0</td>\n",
       "      <td>...</td>\n",
       "      <td>1</td>\n",
       "      <td>0</td>\n",
       "      <td>0</td>\n",
       "      <td>0</td>\n",
       "      <td>1</td>\n",
       "      <td>0</td>\n",
       "      <td>0</td>\n",
       "      <td>1</td>\n",
       "      <td>0</td>\n",
       "      <td>0</td>\n",
       "    </tr>\n",
       "    <tr>\n",
       "      <th>7795-CFOCW</th>\n",
       "      <td>False</td>\n",
       "      <td>False</td>\n",
       "      <td>False</td>\n",
       "      <td>True</td>\n",
       "      <td>False</td>\n",
       "      <td>False</td>\n",
       "      <td>0</td>\n",
       "      <td>0</td>\n",
       "      <td>1</td>\n",
       "      <td>1</td>\n",
       "      <td>...</td>\n",
       "      <td>0</td>\n",
       "      <td>0</td>\n",
       "      <td>1</td>\n",
       "      <td>0</td>\n",
       "      <td>1</td>\n",
       "      <td>0</td>\n",
       "      <td>0</td>\n",
       "      <td>1</td>\n",
       "      <td>0</td>\n",
       "      <td>0</td>\n",
       "    </tr>\n",
       "    <tr>\n",
       "      <th>9237-HQITU</th>\n",
       "      <td>True</td>\n",
       "      <td>False</td>\n",
       "      <td>True</td>\n",
       "      <td>False</td>\n",
       "      <td>False</td>\n",
       "      <td>True</td>\n",
       "      <td>1</td>\n",
       "      <td>0</td>\n",
       "      <td>0</td>\n",
       "      <td>0</td>\n",
       "      <td>...</td>\n",
       "      <td>1</td>\n",
       "      <td>0</td>\n",
       "      <td>0</td>\n",
       "      <td>0</td>\n",
       "      <td>0</td>\n",
       "      <td>1</td>\n",
       "      <td>0</td>\n",
       "      <td>1</td>\n",
       "      <td>0</td>\n",
       "      <td>0</td>\n",
       "    </tr>\n",
       "  </tbody>\n",
       "</table>\n",
       "<p>5 rows × 49 columns</p>\n",
       "</div>"
      ],
      "text/plain": [
       "            Churn_bool  Dependents_bool  PhoneService_bool  gender_bool  \\\n",
       "customerID                                                                \n",
       "7590-VHVEG       False            False              False        False   \n",
       "5575-GNVDE       False            False               True         True   \n",
       "3668-QPYBK        True            False               True         True   \n",
       "7795-CFOCW       False            False              False         True   \n",
       "9237-HQITU        True            False               True        False   \n",
       "\n",
       "            Partner_bool  PaperlessBilling_bool  DeviceProtection_No  \\\n",
       "customerID                                                             \n",
       "7590-VHVEG          True                   True                    1   \n",
       "5575-GNVDE         False                  False                    0   \n",
       "3668-QPYBK         False                   True                    1   \n",
       "7795-CFOCW         False                  False                    0   \n",
       "9237-HQITU         False                   True                    1   \n",
       "\n",
       "            DeviceProtection_No internet service  DeviceProtection_Yes  \\\n",
       "customerID                                                               \n",
       "7590-VHVEG                                     0                     0   \n",
       "5575-GNVDE                                     0                     1   \n",
       "3668-QPYBK                                     0                     0   \n",
       "7795-CFOCW                                     0                     1   \n",
       "9237-HQITU                                     0                     0   \n",
       "\n",
       "            PaymentMethod_Bank transfer (automatic)  ...  tenure_group_0-20  \\\n",
       "customerID                                           ...                      \n",
       "7590-VHVEG                                        0  ...                  1   \n",
       "5575-GNVDE                                        0  ...                  0   \n",
       "3668-QPYBK                                        0  ...                  1   \n",
       "7795-CFOCW                                        1  ...                  0   \n",
       "9237-HQITU                                        0  ...                  1   \n",
       "\n",
       "            tenure_group_20-40  tenure_group_40-60  tenure_group_60plus  \\\n",
       "customerID                                                                \n",
       "7590-VHVEG                   0                   0                    0   \n",
       "5575-GNVDE                   1                   0                    0   \n",
       "3668-QPYBK                   0                   0                    0   \n",
       "7795-CFOCW                   0                   1                    0   \n",
       "9237-HQITU                   0                   0                    0   \n",
       "\n",
       "            InternetService_DSL  InternetService_Fiber optic  \\\n",
       "customerID                                                     \n",
       "7590-VHVEG                    1                            0   \n",
       "5575-GNVDE                    1                            0   \n",
       "3668-QPYBK                    1                            0   \n",
       "7795-CFOCW                    1                            0   \n",
       "9237-HQITU                    0                            1   \n",
       "\n",
       "            InternetService_No  StreamingTV_No  \\\n",
       "customerID                                       \n",
       "7590-VHVEG                   0               1   \n",
       "5575-GNVDE                   0               1   \n",
       "3668-QPYBK                   0               1   \n",
       "7795-CFOCW                   0               1   \n",
       "9237-HQITU                   0               1   \n",
       "\n",
       "            StreamingTV_No internet service  StreamingTV_Yes  \n",
       "customerID                                                    \n",
       "7590-VHVEG                                0                0  \n",
       "5575-GNVDE                                0                0  \n",
       "3668-QPYBK                                0                0  \n",
       "7795-CFOCW                                0                0  \n",
       "9237-HQITU                                0                0  \n",
       "\n",
       "[5 rows x 49 columns]"
      ]
     },
     "execution_count": 13,
     "metadata": {},
     "output_type": "execute_result"
    }
   ],
   "source": [
    "df.head()"
   ]
  },
  {
   "cell_type": "code",
   "execution_count": 14,
   "metadata": {},
   "outputs": [
    {
     "name": "stdout",
     "output_type": "stream",
     "text": [
      "<class 'pandas.core.frame.DataFrame'>\n",
      "Index: 7043 entries, 7590-VHVEG to 3186-AJIEK\n",
      "Data columns (total 49 columns):\n",
      " #   Column                                   Non-Null Count  Dtype\n",
      "---  ------                                   --------------  -----\n",
      " 0   Churn_bool                               7043 non-null   bool \n",
      " 1   Dependents_bool                          7043 non-null   bool \n",
      " 2   PhoneService_bool                        7043 non-null   bool \n",
      " 3   gender_bool                              7043 non-null   bool \n",
      " 4   Partner_bool                             7043 non-null   bool \n",
      " 5   PaperlessBilling_bool                    7043 non-null   bool \n",
      " 6   DeviceProtection_No                      7043 non-null   int64\n",
      " 7   DeviceProtection_No internet service     7043 non-null   int64\n",
      " 8   DeviceProtection_Yes                     7043 non-null   int64\n",
      " 9   PaymentMethod_Bank transfer (automatic)  7043 non-null   int64\n",
      " 10  PaymentMethod_Credit card (automatic)    7043 non-null   int64\n",
      " 11  PaymentMethod_Electronic check           7043 non-null   int64\n",
      " 12  PaymentMethod_Mailed check               7043 non-null   int64\n",
      " 13  StreamingMovies_No                       7043 non-null   int64\n",
      " 14  StreamingMovies_No internet service      7043 non-null   int64\n",
      " 15  StreamingMovies_Yes                      7043 non-null   int64\n",
      " 16  monthlycharges_group_0-30                7043 non-null   int64\n",
      " 17  monthlycharges_group_30-70               7043 non-null   int64\n",
      " 18  monthlycharges_group_70-99               7043 non-null   int64\n",
      " 19  monthlycharges_group_99plus              7043 non-null   int64\n",
      " 20  totalcharges_group_0-2k                  7043 non-null   int64\n",
      " 21  totalcharges_group_2k-4k                 7043 non-null   int64\n",
      " 22  totalcharges_group_4k-6k                 7043 non-null   int64\n",
      " 23  totalcharges_group_6kplus                7043 non-null   int64\n",
      " 24  OnlineBackup_No                          7043 non-null   int64\n",
      " 25  OnlineBackup_No internet service         7043 non-null   int64\n",
      " 26  OnlineBackup_Yes                         7043 non-null   int64\n",
      " 27  MultipleLines_No                         7043 non-null   int64\n",
      " 28  MultipleLines_No phone service           7043 non-null   int64\n",
      " 29  MultipleLines_Yes                        7043 non-null   int64\n",
      " 30  TechSupport_No                           7043 non-null   int64\n",
      " 31  TechSupport_No internet service          7043 non-null   int64\n",
      " 32  TechSupport_Yes                          7043 non-null   int64\n",
      " 33  OnlineSecurity_No                        7043 non-null   int64\n",
      " 34  OnlineSecurity_No internet service       7043 non-null   int64\n",
      " 35  OnlineSecurity_Yes                       7043 non-null   int64\n",
      " 36  Contract_Month-to-month                  7043 non-null   int64\n",
      " 37  Contract_One year                        7043 non-null   int64\n",
      " 38  Contract_Two year                        7043 non-null   int64\n",
      " 39  tenure_group_0-20                        7043 non-null   int64\n",
      " 40  tenure_group_20-40                       7043 non-null   int64\n",
      " 41  tenure_group_40-60                       7043 non-null   int64\n",
      " 42  tenure_group_60plus                      7043 non-null   int64\n",
      " 43  InternetService_DSL                      7043 non-null   int64\n",
      " 44  InternetService_Fiber optic              7043 non-null   int64\n",
      " 45  InternetService_No                       7043 non-null   int64\n",
      " 46  StreamingTV_No                           7043 non-null   int64\n",
      " 47  StreamingTV_No internet service          7043 non-null   int64\n",
      " 48  StreamingTV_Yes                          7043 non-null   int64\n",
      "dtypes: bool(6), int64(43)\n",
      "memory usage: 2.4+ MB\n"
     ]
    }
   ],
   "source": [
    "df.info()"
   ]
  },
  {
   "cell_type": "markdown",
   "metadata": {},
   "source": [
    "## 전처리"
   ]
  },
  {
   "cell_type": "code",
   "execution_count": 16,
   "metadata": {
    "scrolled": false
   },
   "outputs": [
    {
     "data": {
      "text/plain": [
       "False    5174\n",
       "True     1869\n",
       "Name: Churn_bool, dtype: int64"
      ]
     },
     "execution_count": 16,
     "metadata": {},
     "output_type": "execute_result"
    }
   ],
   "source": [
    "df[\"Churn_bool\"].value_counts()"
   ]
  },
  {
   "cell_type": "markdown",
   "metadata": {},
   "source": [
    "## 학습, 예측 데이터셋 나누기\n",
    "### 학습, 예측에 사용할 컬럼"
   ]
  },
  {
   "cell_type": "code",
   "execution_count": 17,
   "metadata": {},
   "outputs": [
    {
     "data": {
      "text/plain": [
       "Churn_bool                                 2\n",
       "Dependents_bool                            2\n",
       "PhoneService_bool                          2\n",
       "gender_bool                                2\n",
       "Partner_bool                               2\n",
       "PaperlessBilling_bool                      2\n",
       "DeviceProtection_No                        2\n",
       "DeviceProtection_No internet service       2\n",
       "DeviceProtection_Yes                       2\n",
       "PaymentMethod_Bank transfer (automatic)    2\n",
       "PaymentMethod_Credit card (automatic)      2\n",
       "PaymentMethod_Electronic check             2\n",
       "PaymentMethod_Mailed check                 2\n",
       "StreamingMovies_No                         2\n",
       "StreamingMovies_No internet service        2\n",
       "StreamingMovies_Yes                        2\n",
       "monthlycharges_group_0-30                  2\n",
       "monthlycharges_group_30-70                 2\n",
       "monthlycharges_group_70-99                 2\n",
       "monthlycharges_group_99plus                2\n",
       "totalcharges_group_0-2k                    2\n",
       "totalcharges_group_2k-4k                   2\n",
       "totalcharges_group_4k-6k                   2\n",
       "totalcharges_group_6kplus                  2\n",
       "OnlineBackup_No                            2\n",
       "OnlineBackup_No internet service           2\n",
       "OnlineBackup_Yes                           2\n",
       "MultipleLines_No                           2\n",
       "MultipleLines_No phone service             2\n",
       "MultipleLines_Yes                          2\n",
       "TechSupport_No                             2\n",
       "TechSupport_No internet service            2\n",
       "TechSupport_Yes                            2\n",
       "OnlineSecurity_No                          2\n",
       "OnlineSecurity_No internet service         2\n",
       "OnlineSecurity_Yes                         2\n",
       "Contract_Month-to-month                    2\n",
       "Contract_One year                          2\n",
       "Contract_Two year                          2\n",
       "tenure_group_0-20                          2\n",
       "tenure_group_20-40                         2\n",
       "tenure_group_40-60                         2\n",
       "tenure_group_60plus                        2\n",
       "InternetService_DSL                        2\n",
       "InternetService_Fiber optic                2\n",
       "InternetService_No                         2\n",
       "StreamingTV_No                             2\n",
       "StreamingTV_No internet service            2\n",
       "StreamingTV_Yes                            2\n",
       "dtype: int64"
      ]
     },
     "execution_count": 17,
     "metadata": {},
     "output_type": "execute_result"
    }
   ],
   "source": [
    "df.nunique()"
   ]
  },
  {
   "cell_type": "markdown",
   "metadata": {},
   "source": [
    "### 정답값이자 예측해야 될 값"
   ]
  },
  {
   "cell_type": "code",
   "execution_count": 18,
   "metadata": {},
   "outputs": [],
   "source": [
    "# label_name 이라는 변수에 예측할 컬럼의 이름을 담습니다.\n",
    "label_name = \"Churn_bool\""
   ]
  },
  {
   "cell_type": "markdown",
   "metadata": {},
   "source": [
    "### 문제(feature)와 답안(label)을 나누기\n",
    "\n",
    "* X, y를 만들어 줍니다.\n",
    "* X는 feature, 독립변수, 예) 시험의 문제\n",
    "* y는 label, 종속변수, 예) 시험의 정답"
   ]
  },
  {
   "cell_type": "code",
   "execution_count": 20,
   "metadata": {},
   "outputs": [],
   "source": [
    "# X, y를 만들어 줍니다.\n",
    "\n",
    "X = df.drop(label_name, axis=1)\n",
    "y = df[label_name]"
   ]
  },
  {
   "cell_type": "markdown",
   "metadata": {},
   "source": [
    "### 학습, 예측 데이터셋 만들기\n",
    "* X_train : 학습 세트 만들기, 행렬, 판다스의 데이터프레임, 2차원 리스트(배열) 구조,  예) 시험의 기출문제\n",
    "* y_train : 정답 값을 만들기, 벡터, 판다스의 시리즈, 1차원 리스트(배열) 구조, 예) 기출문제의 정답\n",
    "* X_test : 예측에 사용할 데이터세트를 만듭니다. 예) 실전 시험 문제\n",
    "* y_test : 예측의 정답값 예) 실전 시험 문제의 정답"
   ]
  },
  {
   "cell_type": "code",
   "execution_count": 22,
   "metadata": {},
   "outputs": [],
   "source": [
    "# train_test_split 으로 데이터셋을 나눕니다.\n",
    "\n",
    "from sklearn.model_selection import train_test_split\n",
    "\n",
    "X_train, X_test, y_train, y_test = train_test_split(\n",
    "    X, y, test_size=0.33, random_state=42)"
   ]
  },
  {
   "cell_type": "code",
   "execution_count": 23,
   "metadata": {},
   "outputs": [
    {
     "data": {
      "text/plain": [
       "((4718, 48), (2325, 48), (4718,), (2325,))"
      ]
     },
     "execution_count": 23,
     "metadata": {},
     "output_type": "execute_result"
    }
   ],
   "source": [
    "X_train.shape, X_test.shape, y_train.shape, y_test.shape"
   ]
  },
  {
   "cell_type": "code",
   "execution_count": null,
   "metadata": {},
   "outputs": [],
   "source": [
    "X_train.head(3)"
   ]
  },
  {
   "cell_type": "code",
   "execution_count": null,
   "metadata": {},
   "outputs": [],
   "source": [
    "X_test.head(3)"
   ]
  },
  {
   "cell_type": "code",
   "execution_count": 26,
   "metadata": {},
   "outputs": [
    {
     "data": {
      "text/plain": [
       "customerID\n",
       "2985-JUUBZ    False\n",
       "5016-ETTFF     True\n",
       "Name: Churn_bool, dtype: bool"
      ]
     },
     "execution_count": 26,
     "metadata": {},
     "output_type": "execute_result"
    }
   ],
   "source": [
    "y_train.head(2)"
   ]
  },
  {
   "cell_type": "markdown",
   "metadata": {},
   "source": [
    "## 머신러닝 모델로 예측하기"
   ]
  },
  {
   "cell_type": "code",
   "execution_count": 27,
   "metadata": {},
   "outputs": [],
   "source": [
    "from sklearn.tree import DecisionTreeClassifier\n",
    "\n",
    "model = DecisionTreeClassifier()"
   ]
  },
  {
   "cell_type": "code",
   "execution_count": 29,
   "metadata": {},
   "outputs": [
    {
     "name": "stderr",
     "output_type": "stream",
     "text": [
      "[Parallel(n_jobs=-1)]: Using backend LokyBackend with 4 concurrent workers.\n",
      "[Parallel(n_jobs=-1)]: Done   5 out of   5 | elapsed:    2.4s finished\n"
     ]
    }
   ],
   "source": [
    "from sklearn.model_selection import cross_val_predict\n",
    "\n",
    "y_pred = cross_val_predict(model, X_train, y_train, cv=5, verbose=2, n_jobs=-1)"
   ]
  },
  {
   "cell_type": "code",
   "execution_count": 32,
   "metadata": {},
   "outputs": [
    {
     "data": {
      "text/plain": [
       "0.7223399745654938"
      ]
     },
     "execution_count": 32,
     "metadata": {},
     "output_type": "execute_result"
    }
   ],
   "source": [
    "(y_train == y_pred).mean()"
   ]
  },
  {
   "cell_type": "markdown",
   "metadata": {},
   "source": [
    "## Grid Search"
   ]
  },
  {
   "cell_type": "code",
   "execution_count": 36,
   "metadata": {},
   "outputs": [
    {
     "data": {
      "text/plain": [
       "array([ 3,  4,  5,  6,  7,  8,  9, 10, 11, 12, 13, 14])"
      ]
     },
     "execution_count": 36,
     "metadata": {},
     "output_type": "execute_result"
    }
   ],
   "source": [
    "max_depth_list = np.arange(3, 15)\n",
    "max_depth_list"
   ]
  },
  {
   "cell_type": "code",
   "execution_count": 39,
   "metadata": {},
   "outputs": [
    {
     "data": {
      "text/plain": [
       "array([0.3, 0.4, 0.5, 0.6, 0.7, 0.8, 0.9, 1. ])"
      ]
     },
     "execution_count": 39,
     "metadata": {},
     "output_type": "execute_result"
    }
   ],
   "source": [
    "max_features_list = np.arange(0.3, 1.1, step=0.1)\n",
    "max_features_list"
   ]
  },
  {
   "cell_type": "code",
   "execution_count": 49,
   "metadata": {},
   "outputs": [],
   "source": [
    "result_list = []\n",
    "for max_depth in max_depth_list:\n",
    "    for max_features in max_features_list:\n",
    "        \n",
    "        result = []\n",
    "        model = DecisionTreeClassifier(max_depth=max_depth, max_features=max_features)\n",
    "        y_pred = cross_val_predict(model, X_train, y_train, cv=5, verbose=0, n_jobs=-1)\n",
    "        accuracy = (y_train == y_pred).mean()\n",
    "        result.append(max_depth)\n",
    "        result.append(max_features)\n",
    "        result.append(accuracy)\n",
    "        result_list.append(result)"
   ]
  },
  {
   "cell_type": "code",
   "execution_count": 1,
   "metadata": {},
   "outputs": [
    {
     "ename": "NameError",
     "evalue": "name 'pd' is not defined",
     "output_type": "error",
     "traceback": [
      "\u001b[0;31m---------------------------------------------------------------------------\u001b[0m",
      "\u001b[0;31mNameError\u001b[0m                                 Traceback (most recent call last)",
      "\u001b[0;32m<ipython-input-1-c8aeb86de4b7>\u001b[0m in \u001b[0;36m<module>\u001b[0;34m\u001b[0m\n\u001b[0;32m----> 1\u001b[0;31m \u001b[0mdf_result\u001b[0m \u001b[0;34m=\u001b[0m \u001b[0mpd\u001b[0m\u001b[0;34m.\u001b[0m\u001b[0mDataFrame\u001b[0m\u001b[0;34m(\u001b[0m\u001b[0mresult_list\u001b[0m\u001b[0;34m,\u001b[0m \u001b[0mcolumns\u001b[0m\u001b[0;34m=\u001b[0m\u001b[0;34m[\u001b[0m\u001b[0;34m\"max_depth\"\u001b[0m\u001b[0;34m,\u001b[0m \u001b[0;34m\"max_feautures\"\u001b[0m\u001b[0;34m,\u001b[0m \u001b[0;34m\"score\"\u001b[0m\u001b[0;34m]\u001b[0m\u001b[0;34m)\u001b[0m\u001b[0;34m\u001b[0m\u001b[0;34m\u001b[0m\u001b[0m\n\u001b[0m\u001b[1;32m      2\u001b[0m \u001b[0mdf_result\u001b[0m\u001b[0;34m.\u001b[0m\u001b[0msort_values\u001b[0m\u001b[0;34m(\u001b[0m\u001b[0mby\u001b[0m\u001b[0;34m=\u001b[0m\u001b[0;34m\"score\"\u001b[0m\u001b[0;34m,\u001b[0m \u001b[0mascending\u001b[0m\u001b[0;34m=\u001b[0m\u001b[0;32mFalse\u001b[0m\u001b[0;34m)\u001b[0m\u001b[0;34m\u001b[0m\u001b[0;34m\u001b[0m\u001b[0m\n",
      "\u001b[0;31mNameError\u001b[0m: name 'pd' is not defined"
     ]
    }
   ],
   "source": [
    "df_result = pd.DataFrame(result_list, columns=[\"max_depth\", \"max_feautures\", \"score\"])\n",
    "df_result.sort_values(by=\"score\", ascending=False)"
   ]
  },
  {
   "cell_type": "code",
   "execution_count": 51,
   "metadata": {},
   "outputs": [],
   "source": [
    "# parameters = {'kernel':('linear', 'rbf'), 'C':[1, 10]}\n",
    "parameters = {\"max_depth\": max_depth_list, \"max_features\" : max_features_list}"
   ]
  },
  {
   "cell_type": "code",
   "execution_count": null,
   "metadata": {},
   "outputs": [],
   "source": [
    "from sklearn.model_selection import GridSearchCV\n",
    "clf = GridSearchCV(model, parameters)\n",
    "clf.fit(X_train, y_train)"
   ]
  },
  {
   "cell_type": "code",
   "execution_count": 54,
   "metadata": {},
   "outputs": [
    {
     "data": {
      "text/plain": [
       "DecisionTreeClassifier(ccp_alpha=0.0, class_weight=None, criterion='gini',\n",
       "                       max_depth=3, max_features=0.8000000000000003,\n",
       "                       max_leaf_nodes=None, min_impurity_decrease=0.0,\n",
       "                       min_impurity_split=None, min_samples_leaf=1,\n",
       "                       min_samples_split=2, min_weight_fraction_leaf=0.0,\n",
       "                       presort='deprecated', random_state=None,\n",
       "                       splitter='best')"
      ]
     },
     "execution_count": 54,
     "metadata": {},
     "output_type": "execute_result"
    }
   ],
   "source": [
    "clf.best_estimator_"
   ]
  },
  {
   "cell_type": "code",
   "execution_count": 55,
   "metadata": {},
   "outputs": [
    {
     "data": {
      "text/plain": [
       "0.7859270808994014"
      ]
     },
     "execution_count": 55,
     "metadata": {},
     "output_type": "execute_result"
    }
   ],
   "source": [
    "clf.best_score_"
   ]
  },
  {
   "cell_type": "code",
   "execution_count": 57,
   "metadata": {},
   "outputs": [],
   "source": [
    "best_model = clf.best_estimator_"
   ]
  },
  {
   "cell_type": "code",
   "execution_count": 67,
   "metadata": {},
   "outputs": [
    {
     "data": {
      "text/plain": [
       "0.7859269999999999"
      ]
     },
     "execution_count": 67,
     "metadata": {},
     "output_type": "execute_result"
    }
   ],
   "source": [
    "score_list = [0.800847, 0.780720, 0.772246, 0.784730, 0.791092]\n",
    "pd.Series(score_list).mean()"
   ]
  },
  {
   "cell_type": "code",
   "execution_count": 65,
   "metadata": {},
   "outputs": [
    {
     "data": {
      "text/html": [
       "<div>\n",
       "<style scoped>\n",
       "    .dataframe tbody tr th:only-of-type {\n",
       "        vertical-align: middle;\n",
       "    }\n",
       "\n",
       "    .dataframe tbody tr th {\n",
       "        vertical-align: top;\n",
       "    }\n",
       "\n",
       "    .dataframe thead th {\n",
       "        text-align: right;\n",
       "    }\n",
       "</style>\n",
       "<table border=\"1\" class=\"dataframe\">\n",
       "  <thead>\n",
       "    <tr style=\"text-align: right;\">\n",
       "      <th></th>\n",
       "      <th>mean_fit_time</th>\n",
       "      <th>std_fit_time</th>\n",
       "      <th>mean_score_time</th>\n",
       "      <th>std_score_time</th>\n",
       "      <th>param_max_depth</th>\n",
       "      <th>param_max_features</th>\n",
       "      <th>params</th>\n",
       "      <th>split0_test_score</th>\n",
       "      <th>split1_test_score</th>\n",
       "      <th>split2_test_score</th>\n",
       "      <th>split3_test_score</th>\n",
       "      <th>split4_test_score</th>\n",
       "      <th>mean_test_score</th>\n",
       "      <th>std_test_score</th>\n",
       "      <th>rank_test_score</th>\n",
       "    </tr>\n",
       "  </thead>\n",
       "  <tbody>\n",
       "    <tr>\n",
       "      <th>5</th>\n",
       "      <td>0.012878</td>\n",
       "      <td>0.001207</td>\n",
       "      <td>0.003386</td>\n",
       "      <td>0.000477</td>\n",
       "      <td>3</td>\n",
       "      <td>0.8</td>\n",
       "      <td>{'max_depth': 3, 'max_features': 0.80000000000...</td>\n",
       "      <td>0.800847</td>\n",
       "      <td>0.780720</td>\n",
       "      <td>0.772246</td>\n",
       "      <td>0.784730</td>\n",
       "      <td>0.791092</td>\n",
       "      <td>0.785927</td>\n",
       "      <td>0.009644</td>\n",
       "      <td>1</td>\n",
       "    </tr>\n",
       "    <tr>\n",
       "      <th>14</th>\n",
       "      <td>0.016708</td>\n",
       "      <td>0.002111</td>\n",
       "      <td>0.003781</td>\n",
       "      <td>0.001107</td>\n",
       "      <td>4</td>\n",
       "      <td>0.9</td>\n",
       "      <td>{'max_depth': 4, 'max_features': 0.90000000000...</td>\n",
       "      <td>0.800847</td>\n",
       "      <td>0.780720</td>\n",
       "      <td>0.769068</td>\n",
       "      <td>0.786850</td>\n",
       "      <td>0.784730</td>\n",
       "      <td>0.784443</td>\n",
       "      <td>0.010249</td>\n",
       "      <td>2</td>\n",
       "    </tr>\n",
       "    <tr>\n",
       "      <th>18</th>\n",
       "      <td>0.013331</td>\n",
       "      <td>0.000246</td>\n",
       "      <td>0.003306</td>\n",
       "      <td>0.000314</td>\n",
       "      <td>5</td>\n",
       "      <td>0.5</td>\n",
       "      <td>{'max_depth': 5, 'max_features': 0.5}</td>\n",
       "      <td>0.790254</td>\n",
       "      <td>0.792373</td>\n",
       "      <td>0.771186</td>\n",
       "      <td>0.790032</td>\n",
       "      <td>0.776246</td>\n",
       "      <td>0.784018</td>\n",
       "      <td>0.008601</td>\n",
       "      <td>3</td>\n",
       "    </tr>\n",
       "    <tr>\n",
       "      <th>27</th>\n",
       "      <td>0.014915</td>\n",
       "      <td>0.000434</td>\n",
       "      <td>0.003671</td>\n",
       "      <td>0.000705</td>\n",
       "      <td>6</td>\n",
       "      <td>0.6</td>\n",
       "      <td>{'max_depth': 6, 'max_features': 0.60000000000...</td>\n",
       "      <td>0.791314</td>\n",
       "      <td>0.779661</td>\n",
       "      <td>0.773305</td>\n",
       "      <td>0.786850</td>\n",
       "      <td>0.783669</td>\n",
       "      <td>0.782960</td>\n",
       "      <td>0.006157</td>\n",
       "      <td>4</td>\n",
       "    </tr>\n",
       "    <tr>\n",
       "      <th>31</th>\n",
       "      <td>0.020359</td>\n",
       "      <td>0.005267</td>\n",
       "      <td>0.004316</td>\n",
       "      <td>0.001009</td>\n",
       "      <td>6</td>\n",
       "      <td>1</td>\n",
       "      <td>{'max_depth': 6, 'max_features': 1.00000000000...</td>\n",
       "      <td>0.788136</td>\n",
       "      <td>0.779661</td>\n",
       "      <td>0.780720</td>\n",
       "      <td>0.784730</td>\n",
       "      <td>0.781548</td>\n",
       "      <td>0.782959</td>\n",
       "      <td>0.003092</td>\n",
       "      <td>5</td>\n",
       "    </tr>\n",
       "    <tr>\n",
       "      <th>...</th>\n",
       "      <td>...</td>\n",
       "      <td>...</td>\n",
       "      <td>...</td>\n",
       "      <td>...</td>\n",
       "      <td>...</td>\n",
       "      <td>...</td>\n",
       "      <td>...</td>\n",
       "      <td>...</td>\n",
       "      <td>...</td>\n",
       "      <td>...</td>\n",
       "      <td>...</td>\n",
       "      <td>...</td>\n",
       "      <td>...</td>\n",
       "      <td>...</td>\n",
       "      <td>...</td>\n",
       "    </tr>\n",
       "    <tr>\n",
       "      <th>91</th>\n",
       "      <td>0.016479</td>\n",
       "      <td>0.000303</td>\n",
       "      <td>0.003022</td>\n",
       "      <td>0.000080</td>\n",
       "      <td>14</td>\n",
       "      <td>0.6</td>\n",
       "      <td>{'max_depth': 14, 'max_features': 0.6000000000...</td>\n",
       "      <td>0.712924</td>\n",
       "      <td>0.712924</td>\n",
       "      <td>0.725636</td>\n",
       "      <td>0.734889</td>\n",
       "      <td>0.727466</td>\n",
       "      <td>0.722767</td>\n",
       "      <td>0.008614</td>\n",
       "      <td>92</td>\n",
       "    </tr>\n",
       "    <tr>\n",
       "      <th>92</th>\n",
       "      <td>0.017135</td>\n",
       "      <td>0.000321</td>\n",
       "      <td>0.003093</td>\n",
       "      <td>0.000144</td>\n",
       "      <td>14</td>\n",
       "      <td>0.7</td>\n",
       "      <td>{'max_depth': 14, 'max_features': 0.7000000000...</td>\n",
       "      <td>0.700212</td>\n",
       "      <td>0.715042</td>\n",
       "      <td>0.724576</td>\n",
       "      <td>0.737010</td>\n",
       "      <td>0.731707</td>\n",
       "      <td>0.721709</td>\n",
       "      <td>0.013030</td>\n",
       "      <td>93</td>\n",
       "    </tr>\n",
       "    <tr>\n",
       "      <th>94</th>\n",
       "      <td>0.019249</td>\n",
       "      <td>0.000463</td>\n",
       "      <td>0.003100</td>\n",
       "      <td>0.000191</td>\n",
       "      <td>14</td>\n",
       "      <td>0.9</td>\n",
       "      <td>{'max_depth': 14, 'max_features': 0.9000000000...</td>\n",
       "      <td>0.727754</td>\n",
       "      <td>0.708686</td>\n",
       "      <td>0.721398</td>\n",
       "      <td>0.722163</td>\n",
       "      <td>0.721103</td>\n",
       "      <td>0.720221</td>\n",
       "      <td>0.006257</td>\n",
       "      <td>94</td>\n",
       "    </tr>\n",
       "    <tr>\n",
       "      <th>93</th>\n",
       "      <td>0.018057</td>\n",
       "      <td>0.000217</td>\n",
       "      <td>0.002948</td>\n",
       "      <td>0.000011</td>\n",
       "      <td>14</td>\n",
       "      <td>0.8</td>\n",
       "      <td>{'max_depth': 14, 'max_features': 0.8000000000...</td>\n",
       "      <td>0.720339</td>\n",
       "      <td>0.708686</td>\n",
       "      <td>0.722458</td>\n",
       "      <td>0.737010</td>\n",
       "      <td>0.711559</td>\n",
       "      <td>0.720010</td>\n",
       "      <td>0.009947</td>\n",
       "      <td>95</td>\n",
       "    </tr>\n",
       "    <tr>\n",
       "      <th>95</th>\n",
       "      <td>0.020302</td>\n",
       "      <td>0.000649</td>\n",
       "      <td>0.003147</td>\n",
       "      <td>0.000148</td>\n",
       "      <td>14</td>\n",
       "      <td>1</td>\n",
       "      <td>{'max_depth': 14, 'max_features': 1.0000000000...</td>\n",
       "      <td>0.719280</td>\n",
       "      <td>0.723517</td>\n",
       "      <td>0.711864</td>\n",
       "      <td>0.724284</td>\n",
       "      <td>0.716861</td>\n",
       "      <td>0.719161</td>\n",
       "      <td>0.004556</td>\n",
       "      <td>96</td>\n",
       "    </tr>\n",
       "  </tbody>\n",
       "</table>\n",
       "<p>96 rows × 15 columns</p>\n",
       "</div>"
      ],
      "text/plain": [
       "    mean_fit_time  std_fit_time  mean_score_time  std_score_time  \\\n",
       "5        0.012878      0.001207         0.003386        0.000477   \n",
       "14       0.016708      0.002111         0.003781        0.001107   \n",
       "18       0.013331      0.000246         0.003306        0.000314   \n",
       "27       0.014915      0.000434         0.003671        0.000705   \n",
       "31       0.020359      0.005267         0.004316        0.001009   \n",
       "..            ...           ...              ...             ...   \n",
       "91       0.016479      0.000303         0.003022        0.000080   \n",
       "92       0.017135      0.000321         0.003093        0.000144   \n",
       "94       0.019249      0.000463         0.003100        0.000191   \n",
       "93       0.018057      0.000217         0.002948        0.000011   \n",
       "95       0.020302      0.000649         0.003147        0.000148   \n",
       "\n",
       "   param_max_depth param_max_features  \\\n",
       "5                3                0.8   \n",
       "14               4                0.9   \n",
       "18               5                0.5   \n",
       "27               6                0.6   \n",
       "31               6                  1   \n",
       "..             ...                ...   \n",
       "91              14                0.6   \n",
       "92              14                0.7   \n",
       "94              14                0.9   \n",
       "93              14                0.8   \n",
       "95              14                  1   \n",
       "\n",
       "                                               params  split0_test_score  \\\n",
       "5   {'max_depth': 3, 'max_features': 0.80000000000...           0.800847   \n",
       "14  {'max_depth': 4, 'max_features': 0.90000000000...           0.800847   \n",
       "18              {'max_depth': 5, 'max_features': 0.5}           0.790254   \n",
       "27  {'max_depth': 6, 'max_features': 0.60000000000...           0.791314   \n",
       "31  {'max_depth': 6, 'max_features': 1.00000000000...           0.788136   \n",
       "..                                                ...                ...   \n",
       "91  {'max_depth': 14, 'max_features': 0.6000000000...           0.712924   \n",
       "92  {'max_depth': 14, 'max_features': 0.7000000000...           0.700212   \n",
       "94  {'max_depth': 14, 'max_features': 0.9000000000...           0.727754   \n",
       "93  {'max_depth': 14, 'max_features': 0.8000000000...           0.720339   \n",
       "95  {'max_depth': 14, 'max_features': 1.0000000000...           0.719280   \n",
       "\n",
       "    split1_test_score  split2_test_score  split3_test_score  \\\n",
       "5            0.780720           0.772246           0.784730   \n",
       "14           0.780720           0.769068           0.786850   \n",
       "18           0.792373           0.771186           0.790032   \n",
       "27           0.779661           0.773305           0.786850   \n",
       "31           0.779661           0.780720           0.784730   \n",
       "..                ...                ...                ...   \n",
       "91           0.712924           0.725636           0.734889   \n",
       "92           0.715042           0.724576           0.737010   \n",
       "94           0.708686           0.721398           0.722163   \n",
       "93           0.708686           0.722458           0.737010   \n",
       "95           0.723517           0.711864           0.724284   \n",
       "\n",
       "    split4_test_score  mean_test_score  std_test_score  rank_test_score  \n",
       "5            0.791092         0.785927        0.009644                1  \n",
       "14           0.784730         0.784443        0.010249                2  \n",
       "18           0.776246         0.784018        0.008601                3  \n",
       "27           0.783669         0.782960        0.006157                4  \n",
       "31           0.781548         0.782959        0.003092                5  \n",
       "..                ...              ...             ...              ...  \n",
       "91           0.727466         0.722767        0.008614               92  \n",
       "92           0.731707         0.721709        0.013030               93  \n",
       "94           0.721103         0.720221        0.006257               94  \n",
       "93           0.711559         0.720010        0.009947               95  \n",
       "95           0.716861         0.719161        0.004556               96  \n",
       "\n",
       "[96 rows x 15 columns]"
      ]
     },
     "execution_count": 65,
     "metadata": {},
     "output_type": "execute_result"
    }
   ],
   "source": [
    "df_cv_result = pd.DataFrame(clf.cv_results_)\n",
    "df_cv_result.sort_values(\"rank_test_score\")"
   ]
  },
  {
   "cell_type": "markdown",
   "metadata": {},
   "source": [
    "## Random Search"
   ]
  },
  {
   "cell_type": "code",
   "execution_count": 94,
   "metadata": {},
   "outputs": [
    {
     "data": {
      "text/plain": [
       "(6, 0.7020302643067419)"
      ]
     },
     "execution_count": 94,
     "metadata": {},
     "output_type": "execute_result"
    }
   ],
   "source": [
    "max_depth = np.random.randint(1, 10)\n",
    "max_features = np.random.uniform(0.1, 1.0)\n",
    "max_depth, max_features"
   ]
  },
  {
   "cell_type": "code",
   "execution_count": 98,
   "metadata": {},
   "outputs": [],
   "source": [
    "result_list = []\n",
    "for i in range(10):\n",
    "    max_depth = np.random.randint(1, 10)\n",
    "    max_features = np.random.uniform(0.1, 1.0)\n",
    "        \n",
    "    result = []\n",
    "    model = DecisionTreeClassifier(max_depth=max_depth, max_features=max_features)\n",
    "    y_pred = cross_val_predict(model, X_train, y_train, cv=5, verbose=0, n_jobs=-1)\n",
    "    accuracy = (y_train == y_pred).mean()\n",
    "    result.append(max_depth)\n",
    "    result.append(max_features)\n",
    "    result.append(accuracy)\n",
    "    result_list.append(result)"
   ]
  },
  {
   "cell_type": "code",
   "execution_count": 99,
   "metadata": {},
   "outputs": [
    {
     "data": {
      "text/plain": [
       "[[6, 0.45835171925944496, 0.7787197965239508],\n",
       " [7, 0.8824991135673157, 0.7797795676133955],\n",
       " [9, 0.4589337888885663, 0.7664264518863926],\n",
       " [1, 0.28901886510250324, 0.7369648155998304],\n",
       " [2, 0.973198859065771, 0.7465027554048326],\n",
       " [2, 0.3126020001177864, 0.7399321746502755],\n",
       " [5, 0.4462623865137142, 0.7787197965239508],\n",
       " [8, 0.5858349132916518, 0.768122085629504],\n",
       " [2, 0.8297712186316641, 0.7454429843153879],\n",
       " [7, 0.2427731232688692, 0.7721492157693938]]"
      ]
     },
     "execution_count": 99,
     "metadata": {},
     "output_type": "execute_result"
    }
   ],
   "source": [
    "result_list"
   ]
  },
  {
   "cell_type": "code",
   "execution_count": 100,
   "metadata": {},
   "outputs": [
    {
     "data": {
      "text/html": [
       "<div>\n",
       "<style scoped>\n",
       "    .dataframe tbody tr th:only-of-type {\n",
       "        vertical-align: middle;\n",
       "    }\n",
       "\n",
       "    .dataframe tbody tr th {\n",
       "        vertical-align: top;\n",
       "    }\n",
       "\n",
       "    .dataframe thead th {\n",
       "        text-align: right;\n",
       "    }\n",
       "</style>\n",
       "<table border=\"1\" class=\"dataframe\">\n",
       "  <thead>\n",
       "    <tr style=\"text-align: right;\">\n",
       "      <th></th>\n",
       "      <th>max_depth</th>\n",
       "      <th>max_feautures</th>\n",
       "      <th>score</th>\n",
       "    </tr>\n",
       "  </thead>\n",
       "  <tbody>\n",
       "    <tr>\n",
       "      <th>1</th>\n",
       "      <td>7</td>\n",
       "      <td>0.882499</td>\n",
       "      <td>0.779780</td>\n",
       "    </tr>\n",
       "    <tr>\n",
       "      <th>0</th>\n",
       "      <td>6</td>\n",
       "      <td>0.458352</td>\n",
       "      <td>0.778720</td>\n",
       "    </tr>\n",
       "    <tr>\n",
       "      <th>6</th>\n",
       "      <td>5</td>\n",
       "      <td>0.446262</td>\n",
       "      <td>0.778720</td>\n",
       "    </tr>\n",
       "    <tr>\n",
       "      <th>9</th>\n",
       "      <td>7</td>\n",
       "      <td>0.242773</td>\n",
       "      <td>0.772149</td>\n",
       "    </tr>\n",
       "    <tr>\n",
       "      <th>7</th>\n",
       "      <td>8</td>\n",
       "      <td>0.585835</td>\n",
       "      <td>0.768122</td>\n",
       "    </tr>\n",
       "  </tbody>\n",
       "</table>\n",
       "</div>"
      ],
      "text/plain": [
       "   max_depth  max_feautures     score\n",
       "1          7       0.882499  0.779780\n",
       "0          6       0.458352  0.778720\n",
       "6          5       0.446262  0.778720\n",
       "9          7       0.242773  0.772149\n",
       "7          8       0.585835  0.768122"
      ]
     },
     "execution_count": 100,
     "metadata": {},
     "output_type": "execute_result"
    }
   ],
   "source": [
    "df_result = pd.DataFrame(result_list, columns=[\"max_depth\", \"max_feautures\", \"score\"])\n",
    "df_result.sort_values(by=\"score\", ascending=False).head()"
   ]
  },
  {
   "cell_type": "code",
   "execution_count": 105,
   "metadata": {},
   "outputs": [
    {
     "data": {
      "text/plain": [
       "(array([2, 1, 3, 9, 7, 3, 8, 7, 6, 4]),\n",
       " array([0.19565819, 0.89198132, 0.94247687, 0.29715637, 0.83376139,\n",
       "        0.24678521, 0.94845863, 0.32424473, 0.77687148, 0.91418409]))"
      ]
     },
     "execution_count": 105,
     "metadata": {},
     "output_type": "execute_result"
    }
   ],
   "source": [
    "max_depth_list = np.random.randint(1, 10, 10)\n",
    "max_features_list = np.random.uniform(0.1, 1.0, 10)\n",
    "max_depth_list, max_features_list"
   ]
  },
  {
   "cell_type": "code",
   "execution_count": 117,
   "metadata": {},
   "outputs": [],
   "source": [
    "distributions = {\"max_depth\" : np.random.randint(3, 10, 100), \n",
    "                 \"max_features\" : np.random.uniform(0.5, 1.0, 100)}"
   ]
  },
  {
   "cell_type": "code",
   "execution_count": 118,
   "metadata": {},
   "outputs": [],
   "source": [
    "from sklearn.model_selection import RandomizedSearchCV\n",
    "\n",
    "clf = RandomizedSearchCV(model, distributions, random_state=42)"
   ]
  },
  {
   "cell_type": "code",
   "execution_count": 119,
   "metadata": {},
   "outputs": [
    {
     "data": {
      "text/plain": [
       "RandomizedSearchCV(cv=None, error_score=nan,\n",
       "                   estimator=DecisionTreeClassifier(ccp_alpha=0.0,\n",
       "                                                    class_weight=None,\n",
       "                                                    criterion='gini',\n",
       "                                                    max_depth=7,\n",
       "                                                    max_features=0.2427731232688692,\n",
       "                                                    max_leaf_nodes=None,\n",
       "                                                    min_impurity_decrease=0.0,\n",
       "                                                    min_impurity_split=None,\n",
       "                                                    min_samples_leaf=1,\n",
       "                                                    min_samples_split=2,\n",
       "                                                    min_weight_fraction_leaf=0.0,\n",
       "                                                    presort='deprecated',\n",
       "                                                    random_state=None,\n",
       "                                                    spli...\n",
       "       0.52136729, 0.99573861, 0.57199791, 0.56880194, 0.92231271,\n",
       "       0.70293581, 0.64777632, 0.68171955, 0.92157762, 0.88485367,\n",
       "       0.50361489, 0.79018612, 0.61775849, 0.6124004 , 0.53578875,\n",
       "       0.52023963, 0.63466755, 0.63568905, 0.7787856 , 0.56835063,\n",
       "       0.85509747, 0.89271366, 0.61335323, 0.59735105, 0.69774665])},\n",
       "                   pre_dispatch='2*n_jobs', random_state=42, refit=True,\n",
       "                   return_train_score=False, scoring=None, verbose=0)"
      ]
     },
     "execution_count": 119,
     "metadata": {},
     "output_type": "execute_result"
    }
   ],
   "source": [
    "clf.fit(X_train, y_train)"
   ]
  },
  {
   "cell_type": "code",
   "execution_count": 120,
   "metadata": {},
   "outputs": [
    {
     "data": {
      "text/plain": [
       "0.7825365763790284"
      ]
     },
     "execution_count": 120,
     "metadata": {},
     "output_type": "execute_result"
    }
   ],
   "source": [
    "clf.best_score_"
   ]
  },
  {
   "cell_type": "code",
   "execution_count": 121,
   "metadata": {},
   "outputs": [
    {
     "data": {
      "text/html": [
       "<div>\n",
       "<style scoped>\n",
       "    .dataframe tbody tr th:only-of-type {\n",
       "        vertical-align: middle;\n",
       "    }\n",
       "\n",
       "    .dataframe tbody tr th {\n",
       "        vertical-align: top;\n",
       "    }\n",
       "\n",
       "    .dataframe thead th {\n",
       "        text-align: right;\n",
       "    }\n",
       "</style>\n",
       "<table border=\"1\" class=\"dataframe\">\n",
       "  <thead>\n",
       "    <tr style=\"text-align: right;\">\n",
       "      <th></th>\n",
       "      <th>mean_fit_time</th>\n",
       "      <th>std_fit_time</th>\n",
       "      <th>mean_score_time</th>\n",
       "      <th>std_score_time</th>\n",
       "      <th>param_max_features</th>\n",
       "      <th>param_max_depth</th>\n",
       "      <th>params</th>\n",
       "      <th>split0_test_score</th>\n",
       "      <th>split1_test_score</th>\n",
       "      <th>split2_test_score</th>\n",
       "      <th>split3_test_score</th>\n",
       "      <th>split4_test_score</th>\n",
       "      <th>mean_test_score</th>\n",
       "      <th>std_test_score</th>\n",
       "      <th>rank_test_score</th>\n",
       "    </tr>\n",
       "  </thead>\n",
       "  <tbody>\n",
       "    <tr>\n",
       "      <th>6</th>\n",
       "      <td>0.013542</td>\n",
       "      <td>0.000219</td>\n",
       "      <td>0.003078</td>\n",
       "      <td>0.000067</td>\n",
       "      <td>0.871978</td>\n",
       "      <td>4</td>\n",
       "      <td>{'max_features': 0.8719781319617559, 'max_dept...</td>\n",
       "      <td>0.790254</td>\n",
       "      <td>0.780720</td>\n",
       "      <td>0.769068</td>\n",
       "      <td>0.786850</td>\n",
       "      <td>0.785790</td>\n",
       "      <td>0.782537</td>\n",
       "      <td>0.007395</td>\n",
       "      <td>1</td>\n",
       "    </tr>\n",
       "    <tr>\n",
       "      <th>1</th>\n",
       "      <td>0.015309</td>\n",
       "      <td>0.001388</td>\n",
       "      <td>0.003840</td>\n",
       "      <td>0.000773</td>\n",
       "      <td>0.589878</td>\n",
       "      <td>6</td>\n",
       "      <td>{'max_features': 0.5898776286086898, 'max_dept...</td>\n",
       "      <td>0.780720</td>\n",
       "      <td>0.779661</td>\n",
       "      <td>0.783898</td>\n",
       "      <td>0.784730</td>\n",
       "      <td>0.778367</td>\n",
       "      <td>0.781475</td>\n",
       "      <td>0.002449</td>\n",
       "      <td>2</td>\n",
       "    </tr>\n",
       "    <tr>\n",
       "      <th>2</th>\n",
       "      <td>0.011785</td>\n",
       "      <td>0.000513</td>\n",
       "      <td>0.003027</td>\n",
       "      <td>0.000018</td>\n",
       "      <td>0.52024</td>\n",
       "      <td>3</td>\n",
       "      <td>{'max_features': 0.5202396298256813, 'max_dept...</td>\n",
       "      <td>0.762712</td>\n",
       "      <td>0.780720</td>\n",
       "      <td>0.757415</td>\n",
       "      <td>0.790032</td>\n",
       "      <td>0.777306</td>\n",
       "      <td>0.773637</td>\n",
       "      <td>0.011958</td>\n",
       "      <td>3</td>\n",
       "    </tr>\n",
       "    <tr>\n",
       "      <th>3</th>\n",
       "      <td>0.012626</td>\n",
       "      <td>0.000815</td>\n",
       "      <td>0.003089</td>\n",
       "      <td>0.000036</td>\n",
       "      <td>0.634668</td>\n",
       "      <td>3</td>\n",
       "      <td>{'max_features': 0.6346675534983975, 'max_dept...</td>\n",
       "      <td>0.764831</td>\n",
       "      <td>0.780720</td>\n",
       "      <td>0.772246</td>\n",
       "      <td>0.757158</td>\n",
       "      <td>0.790032</td>\n",
       "      <td>0.772997</td>\n",
       "      <td>0.011558</td>\n",
       "      <td>4</td>\n",
       "    </tr>\n",
       "    <tr>\n",
       "      <th>0</th>\n",
       "      <td>0.019314</td>\n",
       "      <td>0.003591</td>\n",
       "      <td>0.003878</td>\n",
       "      <td>0.000585</td>\n",
       "      <td>0.558595</td>\n",
       "      <td>7</td>\n",
       "      <td>{'max_features': 0.5585950487840451, 'max_dept...</td>\n",
       "      <td>0.781780</td>\n",
       "      <td>0.757415</td>\n",
       "      <td>0.754237</td>\n",
       "      <td>0.782609</td>\n",
       "      <td>0.780488</td>\n",
       "      <td>0.771306</td>\n",
       "      <td>0.012697</td>\n",
       "      <td>5</td>\n",
       "    </tr>\n",
       "    <tr>\n",
       "      <th>7</th>\n",
       "      <td>0.011565</td>\n",
       "      <td>0.000056</td>\n",
       "      <td>0.003027</td>\n",
       "      <td>0.000085</td>\n",
       "      <td>0.512405</td>\n",
       "      <td>3</td>\n",
       "      <td>{'max_features': 0.512405035441384, 'max_depth...</td>\n",
       "      <td>0.797669</td>\n",
       "      <td>0.777542</td>\n",
       "      <td>0.744703</td>\n",
       "      <td>0.759279</td>\n",
       "      <td>0.777306</td>\n",
       "      <td>0.771300</td>\n",
       "      <td>0.018013</td>\n",
       "      <td>6</td>\n",
       "    </tr>\n",
       "    <tr>\n",
       "      <th>4</th>\n",
       "      <td>0.017124</td>\n",
       "      <td>0.000405</td>\n",
       "      <td>0.003232</td>\n",
       "      <td>0.000134</td>\n",
       "      <td>0.844308</td>\n",
       "      <td>8</td>\n",
       "      <td>{'max_features': 0.844307985081804, 'max_depth...</td>\n",
       "      <td>0.775424</td>\n",
       "      <td>0.774364</td>\n",
       "      <td>0.765890</td>\n",
       "      <td>0.774125</td>\n",
       "      <td>0.759279</td>\n",
       "      <td>0.769816</td>\n",
       "      <td>0.006279</td>\n",
       "      <td>7</td>\n",
       "    </tr>\n",
       "    <tr>\n",
       "      <th>5</th>\n",
       "      <td>0.016128</td>\n",
       "      <td>0.000497</td>\n",
       "      <td>0.003191</td>\n",
       "      <td>0.000112</td>\n",
       "      <td>0.734611</td>\n",
       "      <td>8</td>\n",
       "      <td>{'max_features': 0.7346106445121743, 'max_dept...</td>\n",
       "      <td>0.773305</td>\n",
       "      <td>0.772246</td>\n",
       "      <td>0.761653</td>\n",
       "      <td>0.770944</td>\n",
       "      <td>0.768823</td>\n",
       "      <td>0.769394</td>\n",
       "      <td>0.004149</td>\n",
       "      <td>8</td>\n",
       "    </tr>\n",
       "    <tr>\n",
       "      <th>8</th>\n",
       "      <td>0.016560</td>\n",
       "      <td>0.002034</td>\n",
       "      <td>0.003719</td>\n",
       "      <td>0.000673</td>\n",
       "      <td>0.568802</td>\n",
       "      <td>8</td>\n",
       "      <td>{'max_features': 0.5688019398873644, 'max_dept...</td>\n",
       "      <td>0.771186</td>\n",
       "      <td>0.768008</td>\n",
       "      <td>0.757415</td>\n",
       "      <td>0.773065</td>\n",
       "      <td>0.773065</td>\n",
       "      <td>0.768548</td>\n",
       "      <td>0.005865</td>\n",
       "      <td>9</td>\n",
       "    </tr>\n",
       "    <tr>\n",
       "      <th>9</th>\n",
       "      <td>0.016779</td>\n",
       "      <td>0.001356</td>\n",
       "      <td>0.003158</td>\n",
       "      <td>0.000119</td>\n",
       "      <td>0.666573</td>\n",
       "      <td>9</td>\n",
       "      <td>{'max_features': 0.6665734896211726, 'max_dept...</td>\n",
       "      <td>0.754237</td>\n",
       "      <td>0.764831</td>\n",
       "      <td>0.763771</td>\n",
       "      <td>0.767762</td>\n",
       "      <td>0.761400</td>\n",
       "      <td>0.762400</td>\n",
       "      <td>0.004565</td>\n",
       "      <td>10</td>\n",
       "    </tr>\n",
       "  </tbody>\n",
       "</table>\n",
       "</div>"
      ],
      "text/plain": [
       "   mean_fit_time  std_fit_time  mean_score_time  std_score_time  \\\n",
       "6       0.013542      0.000219         0.003078        0.000067   \n",
       "1       0.015309      0.001388         0.003840        0.000773   \n",
       "2       0.011785      0.000513         0.003027        0.000018   \n",
       "3       0.012626      0.000815         0.003089        0.000036   \n",
       "0       0.019314      0.003591         0.003878        0.000585   \n",
       "7       0.011565      0.000056         0.003027        0.000085   \n",
       "4       0.017124      0.000405         0.003232        0.000134   \n",
       "5       0.016128      0.000497         0.003191        0.000112   \n",
       "8       0.016560      0.002034         0.003719        0.000673   \n",
       "9       0.016779      0.001356         0.003158        0.000119   \n",
       "\n",
       "  param_max_features param_max_depth  \\\n",
       "6           0.871978               4   \n",
       "1           0.589878               6   \n",
       "2            0.52024               3   \n",
       "3           0.634668               3   \n",
       "0           0.558595               7   \n",
       "7           0.512405               3   \n",
       "4           0.844308               8   \n",
       "5           0.734611               8   \n",
       "8           0.568802               8   \n",
       "9           0.666573               9   \n",
       "\n",
       "                                              params  split0_test_score  \\\n",
       "6  {'max_features': 0.8719781319617559, 'max_dept...           0.790254   \n",
       "1  {'max_features': 0.5898776286086898, 'max_dept...           0.780720   \n",
       "2  {'max_features': 0.5202396298256813, 'max_dept...           0.762712   \n",
       "3  {'max_features': 0.6346675534983975, 'max_dept...           0.764831   \n",
       "0  {'max_features': 0.5585950487840451, 'max_dept...           0.781780   \n",
       "7  {'max_features': 0.512405035441384, 'max_depth...           0.797669   \n",
       "4  {'max_features': 0.844307985081804, 'max_depth...           0.775424   \n",
       "5  {'max_features': 0.7346106445121743, 'max_dept...           0.773305   \n",
       "8  {'max_features': 0.5688019398873644, 'max_dept...           0.771186   \n",
       "9  {'max_features': 0.6665734896211726, 'max_dept...           0.754237   \n",
       "\n",
       "   split1_test_score  split2_test_score  split3_test_score  split4_test_score  \\\n",
       "6           0.780720           0.769068           0.786850           0.785790   \n",
       "1           0.779661           0.783898           0.784730           0.778367   \n",
       "2           0.780720           0.757415           0.790032           0.777306   \n",
       "3           0.780720           0.772246           0.757158           0.790032   \n",
       "0           0.757415           0.754237           0.782609           0.780488   \n",
       "7           0.777542           0.744703           0.759279           0.777306   \n",
       "4           0.774364           0.765890           0.774125           0.759279   \n",
       "5           0.772246           0.761653           0.770944           0.768823   \n",
       "8           0.768008           0.757415           0.773065           0.773065   \n",
       "9           0.764831           0.763771           0.767762           0.761400   \n",
       "\n",
       "   mean_test_score  std_test_score  rank_test_score  \n",
       "6         0.782537        0.007395                1  \n",
       "1         0.781475        0.002449                2  \n",
       "2         0.773637        0.011958                3  \n",
       "3         0.772997        0.011558                4  \n",
       "0         0.771306        0.012697                5  \n",
       "7         0.771300        0.018013                6  \n",
       "4         0.769816        0.006279                7  \n",
       "5         0.769394        0.004149                8  \n",
       "8         0.768548        0.005865                9  \n",
       "9         0.762400        0.004565               10  "
      ]
     },
     "execution_count": 121,
     "metadata": {},
     "output_type": "execute_result"
    }
   ],
   "source": [
    "df_cv_result = pd.DataFrame(clf.cv_results_)\n",
    "df_cv_result.sort_values(\"rank_test_score\")"
   ]
  },
  {
   "cell_type": "code",
   "execution_count": null,
   "metadata": {},
   "outputs": [],
   "source": []
  },
  {
   "cell_type": "code",
   "execution_count": null,
   "metadata": {},
   "outputs": [],
   "source": []
  },
  {
   "cell_type": "code",
   "execution_count": null,
   "metadata": {},
   "outputs": [],
   "source": []
  },
  {
   "cell_type": "markdown",
   "metadata": {},
   "source": [
    "## 학습 예측하기"
   ]
  },
  {
   "cell_type": "code",
   "execution_count": null,
   "metadata": {},
   "outputs": [],
   "source": []
  },
  {
   "cell_type": "code",
   "execution_count": 58,
   "metadata": {},
   "outputs": [
    {
     "data": {
      "text/plain": [
       "DecisionTreeClassifier(ccp_alpha=0.0, class_weight=None, criterion='gini',\n",
       "                       max_depth=3, max_features=0.8000000000000003,\n",
       "                       max_leaf_nodes=None, min_impurity_decrease=0.0,\n",
       "                       min_impurity_split=None, min_samples_leaf=1,\n",
       "                       min_samples_split=2, min_weight_fraction_leaf=0.0,\n",
       "                       presort='deprecated', random_state=None,\n",
       "                       splitter='best')"
      ]
     },
     "execution_count": 58,
     "metadata": {},
     "output_type": "execute_result"
    }
   ],
   "source": [
    "best_model.fit(X_train, y_train)"
   ]
  },
  {
   "cell_type": "code",
   "execution_count": 59,
   "metadata": {},
   "outputs": [
    {
     "data": {
      "text/plain": [
       "0.7974193548387096"
      ]
     },
     "execution_count": 59,
     "metadata": {},
     "output_type": "execute_result"
    }
   ],
   "source": [
    "y_test_pred = best_model.predict(X_test)\n",
    "\n",
    "(y_test == y_test_pred).mean()"
   ]
  },
  {
   "cell_type": "markdown",
   "metadata": {},
   "source": [
    "## 모델 평가하기"
   ]
  },
  {
   "cell_type": "code",
   "execution_count": null,
   "metadata": {},
   "outputs": [],
   "source": [
    "# 피처의 중요도를 추출하기\n"
   ]
  },
  {
   "cell_type": "code",
   "execution_count": null,
   "metadata": {},
   "outputs": [],
   "source": [
    "# 피처의 중요도 시각화 하기\n"
   ]
  },
  {
   "cell_type": "markdown",
   "metadata": {},
   "source": [
    "### 점수 측정하기"
   ]
  },
  {
   "cell_type": "code",
   "execution_count": null,
   "metadata": {},
   "outputs": [],
   "source": []
  },
  {
   "cell_type": "code",
   "execution_count": null,
   "metadata": {},
   "outputs": [],
   "source": []
  },
  {
   "cell_type": "code",
   "execution_count": null,
   "metadata": {},
   "outputs": [],
   "source": []
  }
 ],
 "metadata": {
  "kernelspec": {
   "display_name": "Python 3",
   "language": "python",
   "name": "python3"
  },
  "language_info": {
   "codemirror_mode": {
    "name": "ipython",
    "version": 3
   },
   "file_extension": ".py",
   "mimetype": "text/x-python",
   "name": "python",
   "nbconvert_exporter": "python",
   "pygments_lexer": "ipython3",
   "version": "3.7.6"
  },
  "toc": {
   "base_numbering": 1,
   "nav_menu": {},
   "number_sections": true,
   "sideBar": true,
   "skip_h1_title": false,
   "title_cell": "Table of Contents",
   "title_sidebar": "Contents",
   "toc_cell": false,
   "toc_position": {},
   "toc_section_display": true,
   "toc_window_display": false
  },
  "varInspector": {
   "cols": {
    "lenName": 16,
    "lenType": 16,
    "lenVar": 40
   },
   "kernels_config": {
    "python": {
     "delete_cmd_postfix": "",
     "delete_cmd_prefix": "del ",
     "library": "var_list.py",
     "varRefreshCmd": "print(var_dic_list())"
    },
    "r": {
     "delete_cmd_postfix": ") ",
     "delete_cmd_prefix": "rm(",
     "library": "var_list.r",
     "varRefreshCmd": "cat(var_dic_list()) "
    }
   },
   "types_to_exclude": [
    "module",
    "function",
    "builtin_function_or_method",
    "instance",
    "_Feature"
   ],
   "window_display": false
  }
 },
 "nbformat": 4,
 "nbformat_minor": 4
}
