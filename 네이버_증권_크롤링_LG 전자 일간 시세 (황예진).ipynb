{
 "cells": [
  {
   "cell_type": "code",
   "execution_count": 9,
   "metadata": {},
   "outputs": [],
   "source": [
    "import requests\n",
    "import pandas as pd\n",
    "from bs4 import BeautifulSoup as bs\n",
    "import random\n",
    "import time\n",
    "import pandas as pd"
   ]
  },
  {
   "cell_type": "markdown",
   "metadata": {},
   "source": [
    "# 과제. 네이버 증권 크롤링"
   ]
  },
  {
   "cell_type": "markdown",
   "metadata": {},
   "source": [
    "* LG 전자 일간 데이터를 재귀호출을 통해 크롤링해서 가져온 다음, csv 파일로 저장한다."
   ]
  },
  {
   "cell_type": "code",
   "execution_count": 13,
   "metadata": {},
   "outputs": [],
   "source": [
    "# 크롤링 할 사이트 : LG전자 일별 데이터, base url 설정\n",
    "sise_url = \"https://finance.naver.com/item/sise_day.nhn?code=066570&page=\""
   ]
  },
  {
   "cell_type": "code",
   "execution_count": 15,
   "metadata": {},
   "outputs": [
    {
     "data": {
      "text/plain": [
       "[            날짜       종가     전일비       시가       고가       저가        거래량\n",
       " 0          NaN      NaN     NaN      NaN      NaN      NaN        NaN\n",
       " 1   2020.08.11  83000.0  2700.0  86300.0  86300.0  83000.0  1678036.0\n",
       " 2   2020.08.10  85700.0  8500.0  77100.0  86200.0  76500.0  3706582.0\n",
       " 3   2020.08.07  77200.0     0.0  77800.0  78300.0  76300.0   759800.0\n",
       " 4   2020.08.06  77200.0  1100.0  78300.0  78900.0  76900.0   899941.0\n",
       " 5   2020.08.05  78300.0   400.0  78900.0  78900.0  76500.0  1197933.0\n",
       " 6          NaN      NaN     NaN      NaN      NaN      NaN        NaN\n",
       " 7          NaN      NaN     NaN      NaN      NaN      NaN        NaN\n",
       " 8          NaN      NaN     NaN      NaN      NaN      NaN        NaN\n",
       " 9   2020.08.04  77900.0  3900.0  74900.0  78100.0  74000.0  1738014.0\n",
       " 10  2020.08.03  74000.0  3300.0  71300.0  74500.0  71000.0  1183563.0\n",
       " 11  2020.07.31  70700.0  1400.0  72200.0  72500.0  70600.0   851076.0\n",
       " 12  2020.07.30  72100.0   100.0  72700.0  73500.0  71800.0   735701.0\n",
       " 13  2020.07.29  72000.0   500.0  72500.0  73400.0  71700.0   804210.0\n",
       " 14         NaN      NaN     NaN      NaN      NaN      NaN        NaN,\n",
       "    0   1   2   3   4   5   6   7   8   9   10  11\n",
       " 0   1   2   3   4   5   6   7   8   9  10  다음  맨뒤]"
      ]
     },
     "execution_count": 15,
     "metadata": {},
     "output_type": "execute_result"
    }
   ],
   "source": [
    "# html 로 읽기 & 확인\n",
    "table = pd.read_html(f\"{sise_url}1\")\n",
    "table"
   ]
  },
  {
   "cell_type": "code",
   "execution_count": 16,
   "metadata": {},
   "outputs": [],
   "source": [
    "response_sise = requests.get(f'{sise_url}1')"
   ]
  },
  {
   "cell_type": "code",
   "execution_count": 17,
   "metadata": {},
   "outputs": [
    {
     "data": {
      "text/plain": [
       "str"
      ]
     },
     "execution_count": 17,
     "metadata": {},
     "output_type": "execute_result"
    }
   ],
   "source": [
    "type(response_sise.text)"
   ]
  },
  {
   "cell_type": "code",
   "execution_count": 18,
   "metadata": {},
   "outputs": [],
   "source": [
    "html_sise = bs(response_sise.text)"
   ]
  },
  {
   "cell_type": "code",
   "execution_count": 19,
   "metadata": {},
   "outputs": [
    {
     "data": {
      "text/plain": [
       "bs4.BeautifulSoup"
      ]
     },
     "execution_count": 19,
     "metadata": {},
     "output_type": "execute_result"
    }
   ],
   "source": [
    "type(html_sise)"
   ]
  },
  {
   "cell_type": "code",
   "execution_count": 20,
   "metadata": {
    "scrolled": true
   },
   "outputs": [
    {
     "data": {
      "text/plain": [
       "<html lang=\"ko\">\n",
       "<head>\n",
       "<meta content=\"text/html; charset=utf-8\" http-equiv=\"Content-Type\"/>\n",
       "<title>네이버 금융</title>\n",
       "<link href=\"/css/newstock.css?20200806200958\" rel=\"stylesheet\" type=\"text/css\"/>\n",
       "<link href=\"/css/common.css?20200806200958\" rel=\"stylesheet\" type=\"text/css\"/>\n",
       "<link href=\"/css/layout.css?20200806200958\" rel=\"stylesheet\" type=\"text/css\"/>\n",
       "<link href=\"/css/main.css?20200806200958\" rel=\"stylesheet\" type=\"text/css\"/>\n",
       "<link href=\"/css/newstock2.css?20200806200958\" rel=\"stylesheet\" type=\"text/css\"/>\n",
       "<link href=\"/css/newstock3.css?20200806200958\" rel=\"stylesheet\" type=\"text/css\"/>\n",
       "<link href=\"/css/world.css?20200806200958\" rel=\"stylesheet\" type=\"text/css\"/>\n",
       "</head>\n",
       "<body>\n",
       "<script language=\"JavaScript\">\n",
       "function mouseOver(obj){\n",
       "  obj.style.backgroundColor=\"#f6f4e5\";\n",
       "}\n",
       "function mouseOut(obj){\n",
       "  obj.style.backgroundColor=\"#ffffff\";\n",
       "}\n",
       "</script>\n",
       "<h4 class=\"tlline2\"><strong><span class=\"red03\">일별</span>시세</strong></h4>\n",
       "<table cellspacing=\"0\" class=\"type2\">\n",
       "<tr>\n",
       "<th>날짜</th>\n",
       "<th>종가</th>\n",
       "<th>전일비</th>\n",
       "<th>시가</th>\n",
       "<th>고가</th>\n",
       "<th>저가</th>\n",
       "<th>거래량</th>\n",
       "</tr>\n",
       "<tr>\n",
       "<td colspan=\"7\" height=\"8\"></td>\n",
       "</tr>\n",
       "<tr onmouseout=\"mouseOut(this)\" onmouseover=\"mouseOver(this)\">\n",
       "<td align=\"center\"><span class=\"tah p10 gray03\">2020.08.11</span></td>\n",
       "<td class=\"num\"><span class=\"tah p11\">83,000</span></td>\n",
       "<td class=\"num\">\n",
       "<img alt=\"하락\" height=\"6\" src=\"https://ssl.pstatic.net/imgstock/images/images4/ico_down.gif\" style=\"margin-right:4px;\" width=\"7\"/><span class=\"tah p11 nv01\">\n",
       "\t\t\t\t2,700\n",
       "\t\t\t\t</span>\n",
       "</td>\n",
       "<td class=\"num\"><span class=\"tah p11\">86,300</span></td>\n",
       "<td class=\"num\"><span class=\"tah p11\">86,300</span></td>\n",
       "<td class=\"num\"><span class=\"tah p11\">83,000</span></td>\n",
       "<td class=\"num\"><span class=\"tah p11\">1,678,036</span></td>\n",
       "</tr>\n",
       "<tr onmouseout=\"mouseOut(this)\" onmouseover=\"mouseOver(this)\">\n",
       "<td align=\"center\"><span class=\"tah p10 gray03\">2020.08.10</span></td>\n",
       "<td class=\"num\"><span class=\"tah p11\">85,700</span></td>\n",
       "<td class=\"num\">\n",
       "<img alt=\"상승\" height=\"6\" src=\"https://ssl.pstatic.net/imgstock/images/images4/ico_up.gif\" style=\"margin-right:4px;\" width=\"7\"/><span class=\"tah p11 red02\">\n",
       "\t\t\t\t8,500\n",
       "\t\t\t\t</span>\n",
       "</td>\n",
       "<td class=\"num\"><span class=\"tah p11\">77,100</span></td>\n",
       "<td class=\"num\"><span class=\"tah p11\">86,200</span></td>\n",
       "<td class=\"num\"><span class=\"tah p11\">76,500</span></td>\n",
       "<td class=\"num\"><span class=\"tah p11\">3,706,582</span></td>\n",
       "</tr>\n",
       "<tr onmouseout=\"mouseOut(this)\" onmouseover=\"mouseOver(this)\">\n",
       "<td align=\"center\"><span class=\"tah p10 gray03\">2020.08.07</span></td>\n",
       "<td class=\"num\"><span class=\"tah p11\">77,200</span></td>\n",
       "<td class=\"num\">\n",
       "<span class=\"tah p11\">0</span>\n",
       "</td>\n",
       "<td class=\"num\"><span class=\"tah p11\">77,800</span></td>\n",
       "<td class=\"num\"><span class=\"tah p11\">78,300</span></td>\n",
       "<td class=\"num\"><span class=\"tah p11\">76,300</span></td>\n",
       "<td class=\"num\"><span class=\"tah p11\">759,800</span></td>\n",
       "</tr>\n",
       "<tr onmouseout=\"mouseOut(this)\" onmouseover=\"mouseOver(this)\">\n",
       "<td align=\"center\"><span class=\"tah p10 gray03\">2020.08.06</span></td>\n",
       "<td class=\"num\"><span class=\"tah p11\">77,200</span></td>\n",
       "<td class=\"num\">\n",
       "<img alt=\"하락\" height=\"6\" src=\"https://ssl.pstatic.net/imgstock/images/images4/ico_down.gif\" style=\"margin-right:4px;\" width=\"7\"/><span class=\"tah p11 nv01\">\n",
       "\t\t\t\t1,100\n",
       "\t\t\t\t</span>\n",
       "</td>\n",
       "<td class=\"num\"><span class=\"tah p11\">78,300</span></td>\n",
       "<td class=\"num\"><span class=\"tah p11\">78,900</span></td>\n",
       "<td class=\"num\"><span class=\"tah p11\">76,900</span></td>\n",
       "<td class=\"num\"><span class=\"tah p11\">899,941</span></td>\n",
       "</tr>\n",
       "<tr onmouseout=\"mouseOut(this)\" onmouseover=\"mouseOver(this)\">\n",
       "<td align=\"center\"><span class=\"tah p10 gray03\">2020.08.05</span></td>\n",
       "<td class=\"num\"><span class=\"tah p11\">78,300</span></td>\n",
       "<td class=\"num\">\n",
       "<img alt=\"상승\" height=\"6\" src=\"https://ssl.pstatic.net/imgstock/images/images4/ico_up.gif\" style=\"margin-right:4px;\" width=\"7\"/><span class=\"tah p11 red02\">\n",
       "\t\t\t\t400\n",
       "\t\t\t\t</span>\n",
       "</td>\n",
       "<td class=\"num\"><span class=\"tah p11\">78,900</span></td>\n",
       "<td class=\"num\"><span class=\"tah p11\">78,900</span></td>\n",
       "<td class=\"num\"><span class=\"tah p11\">76,500</span></td>\n",
       "<td class=\"num\"><span class=\"tah p11\">1,197,933</span></td>\n",
       "</tr>\n",
       "<tr>\n",
       "<td colspan=\"7\" height=\"8\"></td>\n",
       "</tr>\n",
       "<tr>\n",
       "<td bgcolor=\"#e1e1e1\" colspan=\"7\" height=\"1\"></td>\n",
       "</tr>\n",
       "<tr>\n",
       "<td colspan=\"7\" height=\"8\"></td>\n",
       "</tr>\n",
       "<tr onmouseout=\"mouseOut(this)\" onmouseover=\"mouseOver(this)\">\n",
       "<td align=\"center\"><span class=\"tah p10 gray03\">2020.08.04</span></td>\n",
       "<td class=\"num\"><span class=\"tah p11\">77,900</span></td>\n",
       "<td class=\"num\">\n",
       "<img alt=\"상승\" height=\"6\" src=\"https://ssl.pstatic.net/imgstock/images/images4/ico_up.gif\" style=\"margin-right:4px;\" width=\"7\"/><span class=\"tah p11 red02\">\n",
       "\t\t\t\t3,900\n",
       "\t\t\t\t</span>\n",
       "</td>\n",
       "<td class=\"num\"><span class=\"tah p11\">74,900</span></td>\n",
       "<td class=\"num\"><span class=\"tah p11\">78,100</span></td>\n",
       "<td class=\"num\"><span class=\"tah p11\">74,000</span></td>\n",
       "<td class=\"num\"><span class=\"tah p11\">1,738,014</span></td>\n",
       "</tr>\n",
       "<tr onmouseout=\"mouseOut(this)\" onmouseover=\"mouseOver(this)\">\n",
       "<td align=\"center\"><span class=\"tah p10 gray03\">2020.08.03</span></td>\n",
       "<td class=\"num\"><span class=\"tah p11\">74,000</span></td>\n",
       "<td class=\"num\">\n",
       "<img alt=\"상승\" height=\"6\" src=\"https://ssl.pstatic.net/imgstock/images/images4/ico_up.gif\" style=\"margin-right:4px;\" width=\"7\"/><span class=\"tah p11 red02\">\n",
       "\t\t\t\t3,300\n",
       "\t\t\t\t</span>\n",
       "</td>\n",
       "<td class=\"num\"><span class=\"tah p11\">71,300</span></td>\n",
       "<td class=\"num\"><span class=\"tah p11\">74,500</span></td>\n",
       "<td class=\"num\"><span class=\"tah p11\">71,000</span></td>\n",
       "<td class=\"num\"><span class=\"tah p11\">1,183,563</span></td>\n",
       "</tr>\n",
       "<tr onmouseout=\"mouseOut(this)\" onmouseover=\"mouseOver(this)\">\n",
       "<td align=\"center\"><span class=\"tah p10 gray03\">2020.07.31</span></td>\n",
       "<td class=\"num\"><span class=\"tah p11\">70,700</span></td>\n",
       "<td class=\"num\">\n",
       "<img alt=\"하락\" height=\"6\" src=\"https://ssl.pstatic.net/imgstock/images/images4/ico_down.gif\" style=\"margin-right:4px;\" width=\"7\"/><span class=\"tah p11 nv01\">\n",
       "\t\t\t\t1,400\n",
       "\t\t\t\t</span>\n",
       "</td>\n",
       "<td class=\"num\"><span class=\"tah p11\">72,200</span></td>\n",
       "<td class=\"num\"><span class=\"tah p11\">72,500</span></td>\n",
       "<td class=\"num\"><span class=\"tah p11\">70,600</span></td>\n",
       "<td class=\"num\"><span class=\"tah p11\">851,076</span></td>\n",
       "</tr>\n",
       "<tr onmouseout=\"mouseOut(this)\" onmouseover=\"mouseOver(this)\">\n",
       "<td align=\"center\"><span class=\"tah p10 gray03\">2020.07.30</span></td>\n",
       "<td class=\"num\"><span class=\"tah p11\">72,100</span></td>\n",
       "<td class=\"num\">\n",
       "<img alt=\"상승\" height=\"6\" src=\"https://ssl.pstatic.net/imgstock/images/images4/ico_up.gif\" style=\"margin-right:4px;\" width=\"7\"/><span class=\"tah p11 red02\">\n",
       "\t\t\t\t100\n",
       "\t\t\t\t</span>\n",
       "</td>\n",
       "<td class=\"num\"><span class=\"tah p11\">72,700</span></td>\n",
       "<td class=\"num\"><span class=\"tah p11\">73,500</span></td>\n",
       "<td class=\"num\"><span class=\"tah p11\">71,800</span></td>\n",
       "<td class=\"num\"><span class=\"tah p11\">735,701</span></td>\n",
       "</tr>\n",
       "<tr onmouseout=\"mouseOut(this)\" onmouseover=\"mouseOver(this)\">\n",
       "<td align=\"center\"><span class=\"tah p10 gray03\">2020.07.29</span></td>\n",
       "<td class=\"num\"><span class=\"tah p11\">72,000</span></td>\n",
       "<td class=\"num\">\n",
       "<img alt=\"하락\" height=\"6\" src=\"https://ssl.pstatic.net/imgstock/images/images4/ico_down.gif\" style=\"margin-right:4px;\" width=\"7\"/><span class=\"tah p11 nv01\">\n",
       "\t\t\t\t500\n",
       "\t\t\t\t</span>\n",
       "</td>\n",
       "<td class=\"num\"><span class=\"tah p11\">72,500</span></td>\n",
       "<td class=\"num\"><span class=\"tah p11\">73,400</span></td>\n",
       "<td class=\"num\"><span class=\"tah p11\">71,700</span></td>\n",
       "<td class=\"num\"><span class=\"tah p11\">804,210</span></td>\n",
       "</tr>\n",
       "<tr>\n",
       "<td colspan=\"7\" height=\"8\"></td>\n",
       "</tr>\n",
       "</table>\n",
       "<!--- 페이지 네비게이션 시작--->\n",
       "<table align=\"center\" class=\"Nnavi\" summary=\"페이지 네비게이션 리스트\">\n",
       "<caption>페이지 네비게이션</caption>\n",
       "<tr>\n",
       "<td class=\"on\">\n",
       "<a href=\"/item/sise_day.nhn?code=066570&amp;page=1\">1</a>\n",
       "</td>\n",
       "<td>\n",
       "<a href=\"/item/sise_day.nhn?code=066570&amp;page=2\">2</a>\n",
       "</td>\n",
       "<td>\n",
       "<a href=\"/item/sise_day.nhn?code=066570&amp;page=3\">3</a>\n",
       "</td>\n",
       "<td>\n",
       "<a href=\"/item/sise_day.nhn?code=066570&amp;page=4\">4</a>\n",
       "</td>\n",
       "<td>\n",
       "<a href=\"/item/sise_day.nhn?code=066570&amp;page=5\">5</a>\n",
       "</td>\n",
       "<td>\n",
       "<a href=\"/item/sise_day.nhn?code=066570&amp;page=6\">6</a>\n",
       "</td>\n",
       "<td>\n",
       "<a href=\"/item/sise_day.nhn?code=066570&amp;page=7\">7</a>\n",
       "</td>\n",
       "<td>\n",
       "<a href=\"/item/sise_day.nhn?code=066570&amp;page=8\">8</a>\n",
       "</td>\n",
       "<td>\n",
       "<a href=\"/item/sise_day.nhn?code=066570&amp;page=9\">9</a>\n",
       "</td>\n",
       "<td>\n",
       "<a href=\"/item/sise_day.nhn?code=066570&amp;page=10\">10</a>\n",
       "</td>\n",
       "<td class=\"pgR\">\n",
       "<a href=\"/item/sise_day.nhn?code=066570&amp;page=11\">\n",
       "\t\t\t\t다음<img alt=\"\" border=\"0\" height=\"5\" src=\"https://ssl.pstatic.net/static/n/cmn/bu_pgarR.gif\" width=\"3\"/>\n",
       "</a>\n",
       "</td>\n",
       "<td class=\"pgRR\">\n",
       "<a href=\"/item/sise_day.nhn?code=066570&amp;page=453\">맨뒤\n",
       "\t\t\t\t<img alt=\"\" border=\"0\" height=\"5\" src=\"https://ssl.pstatic.net/static/n/cmn/bu_pgarRR.gif\" width=\"8\"/>\n",
       "</a>\n",
       "</td>\n",
       "</tr>\n",
       "</table>\n",
       "<!--- 페이지 네비게이션 끝--->\n",
       "<script src=\"/js/jindo.min.ns.1.5.3.euckr.js?20200806200958\" type=\"text/javascript\"></script>\n",
       "<script src=\"/js/lcslog.js?20200806200958\" type=\"text/javascript\"></script>\n",
       "<script type=\"text/javascript\">\n",
       "        ;(function(){\n",
       "            var eventType = \"onpageshow\" in window ? \"pageshow\" : \"load\";\n",
       "            jindo.$Fn(function(){\n",
       "                lcs_do();\n",
       "            }).attach(window, eventType);\n",
       "        })();\n",
       "\t</script>\n",
       "</body></html>"
      ]
     },
     "execution_count": 20,
     "metadata": {},
     "output_type": "execute_result"
    }
   ],
   "source": [
    "html_sise"
   ]
  },
  {
   "cell_type": "code",
   "execution_count": 21,
   "metadata": {},
   "outputs": [
    {
     "data": {
      "text/plain": [
       "16"
      ]
     },
     "execution_count": 21,
     "metadata": {},
     "output_type": "execute_result"
    }
   ],
   "source": [
    "# tr 개수 확인 \n",
    "trs = html_sise.select('body > table.type2> tr')\n",
    "len(trs)"
   ]
  },
  {
   "cell_type": "code",
   "execution_count": 22,
   "metadata": {},
   "outputs": [
    {
     "data": {
      "text/plain": [
       "<tr>\n",
       "<th>날짜</th>\n",
       "<th>종가</th>\n",
       "<th>전일비</th>\n",
       "<th>시가</th>\n",
       "<th>고가</th>\n",
       "<th>저가</th>\n",
       "<th>거래량</th>\n",
       "</tr>"
      ]
     },
     "execution_count": 22,
     "metadata": {},
     "output_type": "execute_result"
    }
   ],
   "source": [
    "# 0 번째는 칼럼명 => 크롤링 시 제외\n",
    "trs[0]"
   ]
  },
  {
   "cell_type": "code",
   "execution_count": 23,
   "metadata": {},
   "outputs": [
    {
     "data": {
      "text/plain": [
       "<tr onmouseout=\"mouseOut(this)\" onmouseover=\"mouseOver(this)\">\n",
       "<td align=\"center\"><span class=\"tah p10 gray03\">2020.08.11</span></td>\n",
       "<td class=\"num\"><span class=\"tah p11\">83,000</span></td>\n",
       "<td class=\"num\">\n",
       "<img alt=\"하락\" height=\"6\" src=\"https://ssl.pstatic.net/imgstock/images/images4/ico_down.gif\" style=\"margin-right:4px;\" width=\"7\"/><span class=\"tah p11 nv01\">\n",
       "\t\t\t\t2,700\n",
       "\t\t\t\t</span>\n",
       "</td>\n",
       "<td class=\"num\"><span class=\"tah p11\">86,300</span></td>\n",
       "<td class=\"num\"><span class=\"tah p11\">86,300</span></td>\n",
       "<td class=\"num\"><span class=\"tah p11\">83,000</span></td>\n",
       "<td class=\"num\"><span class=\"tah p11\">1,678,036</span></td>\n",
       "</tr>"
      ]
     },
     "execution_count": 23,
     "metadata": {},
     "output_type": "execute_result"
    }
   ],
   "source": [
    "# 2번째 tr은 일간시세 테이블의 첫번쨰 행임 \n",
    "trs[2]"
   ]
  },
  {
   "cell_type": "code",
   "execution_count": 24,
   "metadata": {},
   "outputs": [
    {
     "data": {
      "text/plain": [
       "'2020.08.11'"
      ]
     },
     "execution_count": 24,
     "metadata": {},
     "output_type": "execute_result"
    }
   ],
   "source": [
    "# page.1 의 1st row 날짜 \n",
    "trs[2].select(\"td\")[0].get_text(strip=True)"
   ]
  },
  {
   "cell_type": "code",
   "execution_count": 25,
   "metadata": {},
   "outputs": [
    {
     "data": {
      "text/plain": [
       "'83,000'"
      ]
     },
     "execution_count": 25,
     "metadata": {},
     "output_type": "execute_result"
    }
   ],
   "source": [
    "# page.1 의 1st row 종가 \n",
    "trs[2].select(\"td\")[1].get_text(strip=True)"
   ]
  },
  {
   "cell_type": "code",
   "execution_count": 26,
   "metadata": {},
   "outputs": [
    {
     "data": {
      "text/plain": [
       "'하락'"
      ]
     },
     "execution_count": 26,
     "metadata": {},
     "output_type": "execute_result"
    }
   ],
   "source": [
    "# page.1 의 1st row 전일비 대비 상태 \n",
    "trs[2].select(\"img\")[0]['alt']"
   ]
  },
  {
   "cell_type": "code",
   "execution_count": 34,
   "metadata": {},
   "outputs": [],
   "source": [
    "# page.1 의 1st row 전일비 \n",
    "# 2008 년 10/30 데이터에서 전일비가 10,000 이상 차이가 나면 'gif'링크가 삽입되어,\n",
    "#'alt' 가 잡히지 않는 키에러가 발생하여 'elif' 문 추후 추가 \n",
    "\n",
    "if trs[3].select('img') == []:\n",
    "    trs[3].select(\"td\")[2].get_text(strip=True)\n",
    "elif trs[6].select('img')[0]['src'] == 'https://ssl.pstatic.net/imgstock/images/images4/ico_up02.gif':\n",
    "        전일비 = '+' + tr.select(\"td\")[2].get_text(strip=True)\n",
    "elif trs[13].select('img')[0]['src'] == 'https://ssl.pstatic.net/imgstock/images/images4/ico_down02.gif':\n",
    "        전일비 = '-' + tr.select(\"td\")[2].get_text(strip=True)\n",
    "else:\n",
    "    ('+' if trs[2].select(\"img\")[0]['alt'] else '-') + trs[2].select(\"td\")[1].get_text(strip=True)"
   ]
  },
  {
   "cell_type": "code",
   "execution_count": 29,
   "metadata": {},
   "outputs": [
    {
     "data": {
      "text/plain": [
       "'86,300'"
      ]
     },
     "execution_count": 29,
     "metadata": {},
     "output_type": "execute_result"
    }
   ],
   "source": [
    "# page.1 의 1st row '시가'\n",
    "trs[2].select(\"td\")[3].get_text(strip=True)"
   ]
  },
  {
   "cell_type": "code",
   "execution_count": 30,
   "metadata": {},
   "outputs": [
    {
     "data": {
      "text/plain": [
       "'86,300'"
      ]
     },
     "execution_count": 30,
     "metadata": {},
     "output_type": "execute_result"
    }
   ],
   "source": [
    "# page.1 의 1st row '고가'\n",
    "trs[2].select(\"td\")[4].get_text(strip=True)"
   ]
  },
  {
   "cell_type": "code",
   "execution_count": 31,
   "metadata": {
    "scrolled": false
   },
   "outputs": [
    {
     "data": {
      "text/plain": [
       "'83,000'"
      ]
     },
     "execution_count": 31,
     "metadata": {},
     "output_type": "execute_result"
    }
   ],
   "source": [
    "# page.1 의 1st row '저가'\n",
    "trs[2].select(\"td\")[5].get_text(strip=True)"
   ]
  },
  {
   "cell_type": "code",
   "execution_count": 32,
   "metadata": {},
   "outputs": [
    {
     "data": {
      "text/plain": [
       "'1,678,036'"
      ]
     },
     "execution_count": 32,
     "metadata": {},
     "output_type": "execute_result"
    }
   ],
   "source": [
    "# page.1 의 1st row '거래량'\n",
    "trs[2].select(\"td\")[-1].get_text(strip=True)"
   ]
  },
  {
   "cell_type": "code",
   "execution_count": 33,
   "metadata": {},
   "outputs": [],
   "source": [
    "def parse_tr(tr) :\n",
    "    info = []\n",
    "    \n",
    "    날짜 = tr.select(\"td\")[0].get_text(strip=True)\n",
    "    종가 = tr.select(\"td\")[1].get_text(strip=True)\n",
    "    if tr.select('img') == []:\n",
    "        전일비 = tr.select(\"td\")[2].get_text(strip=True)\n",
    "    elif tr.select('img')[0]['src'] == 'https://ssl.pstatic.net/imgstock/images/images4/ico_up02.gif':\n",
    "        전일비 = '+' + tr.select(\"td\")[2].get_text(strip=True)\n",
    "    elif tr.select('img')[0]['src'] == 'https://ssl.pstatic.net/imgstock/images/images4/ico_down02.gif':\n",
    "        전일비 = '-' + tr.select(\"td\")[2].get_text(strip=True)\n",
    "    else:\n",
    "        전일비 = ('+' if tr.select(\"img\")[0]['alt'] else '-') + tr.select(\"td\")[2].get_text(strip=True)\n",
    "    시가 = tr.select(\"td\")[3].get_text(strip=True)\n",
    "    고가 = tr.select(\"td\")[4].get_text(strip=True)\n",
    "    저가 = tr.select(\"td\")[5].get_text(strip=True)\n",
    "    거래량 = tr.select(\"td\")[-1].get_text(strip=True)\n",
    "    \n",
    "    info.append(날짜)\n",
    "    info.append(종가)\n",
    "    info.append(전일비)\n",
    "    info.append(시가)\n",
    "    info.append(고가)\n",
    "    info.append(저가)\n",
    "    info.append(거래량)\n",
    "    \n",
    "    return info\n",
    "    "
   ]
  },
  {
   "cell_type": "code",
   "execution_count": 319,
   "metadata": {},
   "outputs": [
    {
     "data": {
      "text/plain": [
       "'https://ssl.pstatic.net/imgstock/images/images4/ico_up02.gif'"
      ]
     },
     "execution_count": 319,
     "metadata": {},
     "output_type": "execute_result"
    }
   ],
   "source": [
    "# 중간 재귀호출 점검 시, 키에러가 발생한 부분 체크하여, 해당 특정 gif 링크 가져오기\n",
    "sise_url1 = \"https://finance.naver.com/item/sise_day.nhn?code=066570&page=292\"\n",
    "html1 = bs(requests.get(sise_url1).text)\n",
    "str1 = html1.select('body > table.type2 > tr')\n",
    "str1[6].select('img')[0]['src']"
   ]
  },
  {
   "cell_type": "code",
   "execution_count": 325,
   "metadata": {},
   "outputs": [
    {
     "data": {
      "text/plain": [
       "['2008.10.24', '70,600', '-12,400', '82,200', '83,000', '70,600', '2,222,392']"
      ]
     },
     "execution_count": 325,
     "metadata": {},
     "output_type": "execute_result"
    }
   ],
   "source": [
    "# elif 추가 후, 오류났던 10.24 데이터 제대로 출력되는지 확인 \n",
    "parse_tr(str1[13])"
   ]
  },
  {
   "cell_type": "code",
   "execution_count": 209,
   "metadata": {},
   "outputs": [
    {
     "data": {
      "text/plain": [
       "['2020.08.10', '85,700', '+8,500', '77,100', '86,200', '76,500', '3,683,348']"
      ]
     },
     "execution_count": 209,
     "metadata": {},
     "output_type": "execute_result"
    }
   ],
   "source": [
    "# 확인\n",
    "parse_tr(trs[2])"
   ]
  },
  {
   "cell_type": "code",
   "execution_count": 35,
   "metadata": {},
   "outputs": [
    {
     "name": "stdout",
     "output_type": "stream",
     "text": [
      "[['2020.08.11', '83,000', '+2,700', '86,300', '86,300', '83,000', '1,678,036'], ['2020.08.10', '85,700', '+8,500', '77,100', '86,200', '76,500', '3,706,582'], ['2020.08.07', '77,200', '0', '77,800', '78,300', '76,300', '759,800'], ['2020.08.06', '77,200', '+1,100', '78,300', '78,900', '76,900', '899,941'], ['2020.08.05', '78,300', '+400', '78,900', '78,900', '76,500', '1,197,933'], ['2020.08.04', '77,900', '+3,900', '74,900', '78,100', '74,000', '1,738,014'], ['2020.08.03', '74,000', '+3,300', '71,300', '74,500', '71,000', '1,183,563'], ['2020.07.31', '70,700', '+1,400', '72,200', '72,500', '70,600', '851,076'], ['2020.07.30', '72,100', '+100', '72,700', '73,500', '71,800', '735,701'], ['2020.07.29', '72,000', '+500', '72,500', '73,400', '71,700', '804,210']]\n"
     ]
    }
   ],
   "source": [
    "# 한 페이지의 모든 각 행을 리스트로 묶고, 하나의 리스트로 출력되도록 함수 입력 \n",
    "# page2 는 extend 가 append 와 다른 점 알려고 만든 것 \n",
    "# trs[0, 1, 7, 8, 9, 15] 는 시가 데이터가 아니므로 제외 \n",
    "\n",
    "page = []\n",
    "# page2 = []\n",
    "for i in range(0, len(trs)):\n",
    "    if i in [0, 1, 7, 8, 9, 15]: \n",
    "        pass\n",
    "    else:\n",
    "        page.append(parse_tr(trs[i]))\n",
    "#         page2.extend(parse_tr(trs[i]))\n",
    "\n",
    "print(page)\n",
    "# page2"
   ]
  },
  {
   "cell_type": "code",
   "execution_count": 36,
   "metadata": {},
   "outputs": [],
   "source": [
    "# 전체 LG 전자 일간 시세 정보를 담아줄 비어있는 리스트를 만듭니다.\n",
    "import numpy as np\n",
    "random_time = np.random.uniform(0, 1)\n",
    "random_time\n",
    "\n",
    "def crawling_daily_sise_LG(pnum):\n",
    "    # random_time 만큼 쉬었다가 크롤링합니다.\n",
    "#     time.sleep(random_time)\n",
    "\n",
    "    url = f\"{sise_url}{pnum}\"\n",
    "    response = requests.get(url)\n",
    "    html = bs(response.text)\n",
    "    last_page = int(html_sise.select('body > table.Nnavi > tr > td.pgRR')[0].select('a')[0]['href'].split('=')[-1])\n",
    "\n",
    "    if pnum <= last_page and pnum > 0 :\n",
    "        trs = html.select('body > table.type2 > tr')\n",
    "        return trs\n",
    "    else:\n",
    "        return False"
   ]
  },
  {
   "cell_type": "code",
   "execution_count": 37,
   "metadata": {},
   "outputs": [
    {
     "data": {
      "text/plain": [
       "False"
      ]
     },
     "execution_count": 37,
     "metadata": {},
     "output_type": "execute_result"
    }
   ],
   "source": [
    "# 함수 작동 확인 \n",
    "crawling_daily_sise_LG(0)"
   ]
  },
  {
   "cell_type": "code",
   "execution_count": 49,
   "metadata": {},
   "outputs": [],
   "source": [
    "# 재귀호출을 사용하는 방법\n",
    "all_daily_sise_LG = []\n",
    "\n",
    "def crawling_all_daily_sise_LG(pnum):\n",
    "    trs = crawling_daily_sise_LG (pnum)\n",
    "    if trs :\n",
    "        page = []\n",
    "        for i in range(0, len(trs)):\n",
    "            if i in [0, 1, 7, 8, 9, 15]:\n",
    "                pass\n",
    "            else:\n",
    "                page.append(parse_tr(trs[i]))\n",
    "        \n",
    "        all_daily_sise_LG.extend(page)\n",
    "        # 결과가 정상동작한다면 다음 페이지 번호를 호출합니다.\n",
    "        pnum = pnum + 1\n",
    "        # 재귀호출 => 자기 자신을 호출합니다.\n",
    "        return crawling_all_daily_sise_LG(pnum)\n",
    "    else:\n",
    "        # 페이지가 없다면 all_station 을 반환합니다.\n",
    "        return all_daily_sise_LG"
   ]
  },
  {
   "cell_type": "code",
   "execution_count": 51,
   "metadata": {},
   "outputs": [],
   "source": [
    "# 전체페이지 크롤링하기 \n",
    "df = crawling_all_daily_sise_LG(1)"
   ]
  },
  {
   "cell_type": "code",
   "execution_count": 52,
   "metadata": {},
   "outputs": [
    {
     "data": {
      "text/html": [
       "<div>\n",
       "<style scoped>\n",
       "    .dataframe tbody tr th:only-of-type {\n",
       "        vertical-align: middle;\n",
       "    }\n",
       "\n",
       "    .dataframe tbody tr th {\n",
       "        vertical-align: top;\n",
       "    }\n",
       "\n",
       "    .dataframe thead th {\n",
       "        text-align: right;\n",
       "    }\n",
       "</style>\n",
       "<table border=\"1\" class=\"dataframe\">\n",
       "  <thead>\n",
       "    <tr style=\"text-align: right;\">\n",
       "      <th></th>\n",
       "      <th>날짜</th>\n",
       "      <th>종가</th>\n",
       "      <th>전일비</th>\n",
       "      <th>시가</th>\n",
       "      <th>고가</th>\n",
       "      <th>저가</th>\n",
       "      <th>거래량</th>\n",
       "    </tr>\n",
       "  </thead>\n",
       "  <tbody>\n",
       "    <tr>\n",
       "      <th>0</th>\n",
       "      <td>2020.08.11</td>\n",
       "      <td>83,000</td>\n",
       "      <td>+2,700</td>\n",
       "      <td>86,300</td>\n",
       "      <td>86,300</td>\n",
       "      <td>83,000</td>\n",
       "      <td>1,678,036</td>\n",
       "    </tr>\n",
       "    <tr>\n",
       "      <th>1</th>\n",
       "      <td>2020.08.10</td>\n",
       "      <td>85,700</td>\n",
       "      <td>+8,500</td>\n",
       "      <td>77,100</td>\n",
       "      <td>86,200</td>\n",
       "      <td>76,500</td>\n",
       "      <td>3,706,582</td>\n",
       "    </tr>\n",
       "    <tr>\n",
       "      <th>2</th>\n",
       "      <td>2020.08.07</td>\n",
       "      <td>77,200</td>\n",
       "      <td>0</td>\n",
       "      <td>77,800</td>\n",
       "      <td>78,300</td>\n",
       "      <td>76,300</td>\n",
       "      <td>759,800</td>\n",
       "    </tr>\n",
       "    <tr>\n",
       "      <th>3</th>\n",
       "      <td>2020.08.06</td>\n",
       "      <td>77,200</td>\n",
       "      <td>+1,100</td>\n",
       "      <td>78,300</td>\n",
       "      <td>78,900</td>\n",
       "      <td>76,900</td>\n",
       "      <td>899,941</td>\n",
       "    </tr>\n",
       "    <tr>\n",
       "      <th>4</th>\n",
       "      <td>2020.08.05</td>\n",
       "      <td>78,300</td>\n",
       "      <td>+400</td>\n",
       "      <td>78,900</td>\n",
       "      <td>78,900</td>\n",
       "      <td>76,500</td>\n",
       "      <td>1,197,933</td>\n",
       "    </tr>\n",
       "    <tr>\n",
       "      <th>...</th>\n",
       "      <td>...</td>\n",
       "      <td>...</td>\n",
       "      <td>...</td>\n",
       "      <td>...</td>\n",
       "      <td>...</td>\n",
       "      <td>...</td>\n",
       "      <td>...</td>\n",
       "    </tr>\n",
       "    <tr>\n",
       "      <th>9055</th>\n",
       "      <td>2002.04.25</td>\n",
       "      <td>52,400</td>\n",
       "      <td>+4,600</td>\n",
       "      <td>55,000</td>\n",
       "      <td>56,400</td>\n",
       "      <td>51,800</td>\n",
       "      <td>3,913,730</td>\n",
       "    </tr>\n",
       "    <tr>\n",
       "      <th>9056</th>\n",
       "      <td>2002.04.24</td>\n",
       "      <td>57,000</td>\n",
       "      <td>+1,800</td>\n",
       "      <td>59,500</td>\n",
       "      <td>60,800</td>\n",
       "      <td>54,300</td>\n",
       "      <td>4,659,371</td>\n",
       "    </tr>\n",
       "    <tr>\n",
       "      <th>9057</th>\n",
       "      <td>2002.04.23</td>\n",
       "      <td>58,800</td>\n",
       "      <td>+5,600</td>\n",
       "      <td>62,100</td>\n",
       "      <td>62,800</td>\n",
       "      <td>58,500</td>\n",
       "      <td>5,384,435</td>\n",
       "    </tr>\n",
       "    <tr>\n",
       "      <th>9058</th>\n",
       "      <td>2002.04.22</td>\n",
       "      <td>64,400</td>\n",
       "      <td>+7,600</td>\n",
       "      <td>56,800</td>\n",
       "      <td>65,300</td>\n",
       "      <td>56,800</td>\n",
       "      <td>8,151,792</td>\n",
       "    </tr>\n",
       "    <tr>\n",
       "      <th>9059</th>\n",
       "      <td></td>\n",
       "      <td></td>\n",
       "      <td></td>\n",
       "      <td></td>\n",
       "      <td></td>\n",
       "      <td></td>\n",
       "      <td></td>\n",
       "    </tr>\n",
       "  </tbody>\n",
       "</table>\n",
       "<p>9060 rows × 7 columns</p>\n",
       "</div>"
      ],
      "text/plain": [
       "              날짜      종가     전일비      시가      고가      저가        거래량\n",
       "0     2020.08.11  83,000  +2,700  86,300  86,300  83,000  1,678,036\n",
       "1     2020.08.10  85,700  +8,500  77,100  86,200  76,500  3,706,582\n",
       "2     2020.08.07  77,200       0  77,800  78,300  76,300    759,800\n",
       "3     2020.08.06  77,200  +1,100  78,300  78,900  76,900    899,941\n",
       "4     2020.08.05  78,300    +400  78,900  78,900  76,500  1,197,933\n",
       "...          ...     ...     ...     ...     ...     ...        ...\n",
       "9055  2002.04.25  52,400  +4,600  55,000  56,400  51,800  3,913,730\n",
       "9056  2002.04.24  57,000  +1,800  59,500  60,800  54,300  4,659,371\n",
       "9057  2002.04.23  58,800  +5,600  62,100  62,800  58,500  5,384,435\n",
       "9058  2002.04.22  64,400  +7,600  56,800  65,300  56,800  8,151,792\n",
       "9059                                                               \n",
       "\n",
       "[9060 rows x 7 columns]"
      ]
     },
     "execution_count": 52,
     "metadata": {},
     "output_type": "execute_result"
    }
   ],
   "source": [
    "header = ['날짜', '종가', '전일비','시가', '고가', '저가', '거래량']\n",
    "all_daily_LG = pd.DataFrame(df, columns = header)\n",
    "all_daily_LG"
   ]
  },
  {
   "cell_type": "code",
   "execution_count": 54,
   "metadata": {},
   "outputs": [],
   "source": [
    "all_daily_LG.to_csv(\"all_daily_LG.csv\", index = False)"
   ]
  },
  {
   "cell_type": "code",
   "execution_count": 55,
   "metadata": {},
   "outputs": [],
   "source": [
    "all_daily_LG = pd.read_csv(\"all_daily_LG.csv\")"
   ]
  },
  {
   "cell_type": "code",
   "execution_count": 56,
   "metadata": {},
   "outputs": [
    {
     "data": {
      "text/html": [
       "<div>\n",
       "<style scoped>\n",
       "    .dataframe tbody tr th:only-of-type {\n",
       "        vertical-align: middle;\n",
       "    }\n",
       "\n",
       "    .dataframe tbody tr th {\n",
       "        vertical-align: top;\n",
       "    }\n",
       "\n",
       "    .dataframe thead th {\n",
       "        text-align: right;\n",
       "    }\n",
       "</style>\n",
       "<table border=\"1\" class=\"dataframe\">\n",
       "  <thead>\n",
       "    <tr style=\"text-align: right;\">\n",
       "      <th></th>\n",
       "      <th>날짜</th>\n",
       "      <th>종가</th>\n",
       "      <th>전일비</th>\n",
       "      <th>시가</th>\n",
       "      <th>고가</th>\n",
       "      <th>저가</th>\n",
       "      <th>거래량</th>\n",
       "    </tr>\n",
       "  </thead>\n",
       "  <tbody>\n",
       "    <tr>\n",
       "      <th>0</th>\n",
       "      <td>2020.08.11</td>\n",
       "      <td>83,000</td>\n",
       "      <td>+2,700</td>\n",
       "      <td>86,300</td>\n",
       "      <td>86,300</td>\n",
       "      <td>83,000</td>\n",
       "      <td>1,678,036</td>\n",
       "    </tr>\n",
       "    <tr>\n",
       "      <th>1</th>\n",
       "      <td>2020.08.10</td>\n",
       "      <td>85,700</td>\n",
       "      <td>+8,500</td>\n",
       "      <td>77,100</td>\n",
       "      <td>86,200</td>\n",
       "      <td>76,500</td>\n",
       "      <td>3,706,582</td>\n",
       "    </tr>\n",
       "    <tr>\n",
       "      <th>2</th>\n",
       "      <td>2020.08.07</td>\n",
       "      <td>77,200</td>\n",
       "      <td>0</td>\n",
       "      <td>77,800</td>\n",
       "      <td>78,300</td>\n",
       "      <td>76,300</td>\n",
       "      <td>759,800</td>\n",
       "    </tr>\n",
       "    <tr>\n",
       "      <th>3</th>\n",
       "      <td>2020.08.06</td>\n",
       "      <td>77,200</td>\n",
       "      <td>+1,100</td>\n",
       "      <td>78,300</td>\n",
       "      <td>78,900</td>\n",
       "      <td>76,900</td>\n",
       "      <td>899,941</td>\n",
       "    </tr>\n",
       "    <tr>\n",
       "      <th>4</th>\n",
       "      <td>2020.08.05</td>\n",
       "      <td>78,300</td>\n",
       "      <td>+400</td>\n",
       "      <td>78,900</td>\n",
       "      <td>78,900</td>\n",
       "      <td>76,500</td>\n",
       "      <td>1,197,933</td>\n",
       "    </tr>\n",
       "  </tbody>\n",
       "</table>\n",
       "</div>"
      ],
      "text/plain": [
       "           날짜      종가     전일비      시가      고가      저가        거래량\n",
       "0  2020.08.11  83,000  +2,700  86,300  86,300  83,000  1,678,036\n",
       "1  2020.08.10  85,700  +8,500  77,100  86,200  76,500  3,706,582\n",
       "2  2020.08.07  77,200       0  77,800  78,300  76,300    759,800\n",
       "3  2020.08.06  77,200  +1,100  78,300  78,900  76,900    899,941\n",
       "4  2020.08.05  78,300    +400  78,900  78,900  76,500  1,197,933"
      ]
     },
     "execution_count": 56,
     "metadata": {},
     "output_type": "execute_result"
    }
   ],
   "source": [
    "all_daily_LG.head()"
   ]
  },
  {
   "cell_type": "code",
   "execution_count": null,
   "metadata": {},
   "outputs": [],
   "source": []
  }
 ],
 "metadata": {
  "kernelspec": {
   "display_name": "Python 3",
   "language": "python",
   "name": "python3"
  },
  "language_info": {
   "codemirror_mode": {
    "name": "ipython",
    "version": 3
   },
   "file_extension": ".py",
   "mimetype": "text/x-python",
   "name": "python",
   "nbconvert_exporter": "python",
   "pygments_lexer": "ipython3",
   "version": "3.7.6"
  },
  "toc": {
   "base_numbering": 1,
   "nav_menu": {},
   "number_sections": true,
   "sideBar": true,
   "skip_h1_title": false,
   "title_cell": "Table of Contents",
   "title_sidebar": "Contents",
   "toc_cell": false,
   "toc_position": {},
   "toc_section_display": true,
   "toc_window_display": false
  },
  "varInspector": {
   "cols": {
    "lenName": 16,
    "lenType": 16,
    "lenVar": 40
   },
   "kernels_config": {
    "python": {
     "delete_cmd_postfix": "",
     "delete_cmd_prefix": "del ",
     "library": "var_list.py",
     "varRefreshCmd": "print(var_dic_list())"
    },
    "r": {
     "delete_cmd_postfix": ") ",
     "delete_cmd_prefix": "rm(",
     "library": "var_list.r",
     "varRefreshCmd": "cat(var_dic_list()) "
    }
   },
   "types_to_exclude": [
    "module",
    "function",
    "builtin_function_or_method",
    "instance",
    "_Feature"
   ],
   "window_display": false
  }
 },
 "nbformat": 4,
 "nbformat_minor": 2
}
