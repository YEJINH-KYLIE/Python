{
 "cells": [
  {
   "cell_type": "markdown",
   "metadata": {},
   "source": [
    "# 의약품처방정보\n",
    "* https://www.data.go.kr/dataset/15007117/fileData.do\n",
    "* 의약품처방정보는 2002년부터 국민건강보험 가입자 중 의약품처방이력이 있는 각 연도별 수진자 100만 명에 대한 기본정보(성, 연령대, 시도코드 등)와 의약품처방전별 개별 의약품에 대한 처방내역(요양개시일자, 1회투약량, 1일투약량, 총투여일수 등)으로 구성된 개방데이터이다.\n",
    "* 약품일반성분명코드 : http://www.hira.or.kr/rf/medicine/getHistoryList.do?pgmid=HIRAA030035020000\n",
    "* <img src=\"https://i.imgur.com/hsrpJp4.png\">\n",
    "\n",
    "http://medinavi.co.kr/search_medicine.asp?keyword1=&keyword2=%EC%9A%B0%EB%A3%A8%EC%82%AC&keyword3=%EB%8C%80%EC%9B%85%EC%A0%9C%EC%95%BD\n",
    "\n",
    "```\n",
    "우루사정100밀리그램 246501ATB\n",
    "우루사정200밀리그램 246502ATB\n",
    "우루사정300밀리그램 246506ATB\n",
    "우루사100mg연질캅셀 246501ACS\n",
    "우루사캅셀200mg 246502ACH\n",
    "우루사캡슐250밀리그램 246503ACH\n",
    "고덱스캡슐 427800ACH\n",
    "```\n",
    "\n",
    "\n",
    "<img src=\"https://i.imgur.com/4dEl5Dl.jpg\">\n",
    "\n",
    "출처 : http://www.docdocdoc.co.kr/news/articleView.html?idxno=1053667"
   ]
  },
  {
   "cell_type": "markdown",
   "metadata": {},
   "source": [
    "## 라이브러리 로드"
   ]
  },
  {
   "cell_type": "code",
   "execution_count": 1,
   "metadata": {},
   "outputs": [],
   "source": [
    "import pandas as pd\n",
    "import numpy as np\n",
    "import seaborn as sns\n",
    "\n",
    "%matplotlib inline"
   ]
  },
  {
   "cell_type": "markdown",
   "metadata": {},
   "source": [
    "## 데이터 로드"
   ]
  },
  {
   "cell_type": "code",
   "execution_count": 2,
   "metadata": {},
   "outputs": [
    {
     "name": "stdout",
     "output_type": "stream",
     "text": [
      "\u001b[31mNHIS_OPEN_T60_2011_part1.CSV\u001b[m\u001b[m*\r\n",
      "\u001b[31mNHIS_OPEN_T60_2011_part2.CSV\u001b[m\u001b[m*\r\n",
      "\u001b[31mNHIS_OPEN_T60_2012_part1.CSV\u001b[m\u001b[m*\r\n",
      "\u001b[31mNHIS_OPEN_T60_2012_part2.CSV\u001b[m\u001b[m*\r\n",
      "\u001b[31mNHIS_OPEN_T60_2013_part1.CSV\u001b[m\u001b[m*\r\n",
      "\u001b[31mNHIS_OPEN_T60_2013_part2.CSV\u001b[m\u001b[m*\r\n",
      "\u001b[31mNHIS_OPEN_T60_2014_part1.CSV\u001b[m\u001b[m*\r\n",
      "\u001b[31mNHIS_OPEN_T60_2014_part2.CSV\u001b[m\u001b[m*\r\n",
      "\u001b[31mNHIS_OPEN_T60_2015_part1.CSV\u001b[m\u001b[m*\r\n",
      "\u001b[31mNHIS_OPEN_T60_2015_part2.CSV\u001b[m\u001b[m*\r\n",
      "\u001b[31mNHIS_OPEN_T60_2016_PART1.csv\u001b[m\u001b[m*\r\n",
      "\u001b[31mNHIS_OPEN_T60_2016_PART2.csv\u001b[m\u001b[m*\r\n",
      "NHIS_OPEN_T60_2018_PART1.csv\r\n",
      "NHIS_OPEN_T60_2018_PART2.csv\r\n",
      "NHIS_OPEN_T60_2018_PART3.csv\r\n",
      "국민건강보험공단_의약품처방정보_2017(1).CSV\r\n",
      "국민건강보험공단_의약품처방정보_2017(2).CSV\r\n",
      "국민건강보험공단_의약품처방정보_2017(3).CSV\r\n"
     ]
    }
   ],
   "source": [
    "%ls open_drug/"
   ]
  },
  {
   "cell_type": "code",
   "execution_count": 11,
   "metadata": {},
   "outputs": [
    {
     "name": "stdout",
     "output_type": "stream",
     "text": [
      "data/ursa_2011_1.csv     data/ursa_2014_2.csv     data/ursa_2017_2016.csv\r\n",
      "data/ursa_2011_2.csv     data/ursa_2015_1.csv     data/ursa_2017_3.csv\r\n",
      "data/ursa_2012_1.csv     data/ursa_2015_2.csv     data/ursa_2018_1.csv\r\n",
      "data/ursa_2012_2.csv     data/ursa_2016_1.csv     data/ursa_2018_2.csv\r\n",
      "data/ursa_2013_1.csv     data/ursa_2016_2.csv     data/ursa_2018_3.csv\r\n",
      "data/ursa_2013_2.csv     data/ursa_2017_1.csv\r\n",
      "data/ursa_2014_1.csv     data/ursa_2017_2.csv\r\n"
     ]
    }
   ],
   "source": [
    "%ls data/ursa*"
   ]
  },
  {
   "cell_type": "code",
   "execution_count": 4,
   "metadata": {
    "scrolled": true
   },
   "outputs": [
    {
     "data": {
      "text/plain": [
       "(9203451, 15)"
      ]
     },
     "execution_count": 4,
     "metadata": {},
     "output_type": "execute_result"
    }
   ],
   "source": [
    "# 2015, 2014, 2013, 2012, 2011\n",
    "year = 2017\n",
    "part = 3\n",
    "# nhis = pd.read_csv(f\"open_drug/NHIS_OPEN_T60_{year}_PART{part}.CSV\", encoding=\"cp949\")\n",
    "nhis = pd.read_csv(f\"open_drug/국민건강보험공단_의약품처방정보_{year}({part}).CSV\", encoding=\"cp949\")\n",
    "nhis.shape"
   ]
  },
  {
   "cell_type": "code",
   "execution_count": 12,
   "metadata": {},
   "outputs": [
    {
     "data": {
      "text/html": [
       "<div>\n",
       "<style scoped>\n",
       "    .dataframe tbody tr th:only-of-type {\n",
       "        vertical-align: middle;\n",
       "    }\n",
       "\n",
       "    .dataframe tbody tr th {\n",
       "        vertical-align: top;\n",
       "    }\n",
       "\n",
       "    .dataframe thead th {\n",
       "        text-align: right;\n",
       "    }\n",
       "</style>\n",
       "<table border=\"1\" class=\"dataframe\">\n",
       "  <thead>\n",
       "    <tr style=\"text-align: right;\">\n",
       "      <th></th>\n",
       "      <th>기준년도</th>\n",
       "      <th>가입자일련번호</th>\n",
       "      <th>처방내역일련번호</th>\n",
       "      <th>일련번호</th>\n",
       "      <th>성별코드</th>\n",
       "      <th>연령대코드(5세단위)</th>\n",
       "      <th>시도코드</th>\n",
       "      <th>요양개시일자</th>\n",
       "      <th>약품일반성분명코드</th>\n",
       "      <th>1회 투약량</th>\n",
       "      <th>1일투약량</th>\n",
       "      <th>총투여일수</th>\n",
       "      <th>단가</th>\n",
       "      <th>금액</th>\n",
       "      <th>데이터 공개일자</th>\n",
       "    </tr>\n",
       "  </thead>\n",
       "  <tbody>\n",
       "    <tr>\n",
       "      <th>2069</th>\n",
       "      <td>2017</td>\n",
       "      <td>764717</td>\n",
       "      <td>275265</td>\n",
       "      <td>1</td>\n",
       "      <td>1</td>\n",
       "      <td>14</td>\n",
       "      <td>11</td>\n",
       "      <td>20170524</td>\n",
       "      <td>246502ATB</td>\n",
       "      <td>1.0</td>\n",
       "      <td>3</td>\n",
       "      <td>30</td>\n",
       "      <td>181.0</td>\n",
       "      <td>16290</td>\n",
       "      <td>20181126</td>\n",
       "    </tr>\n",
       "    <tr>\n",
       "      <th>2074</th>\n",
       "      <td>2017</td>\n",
       "      <td>764717</td>\n",
       "      <td>4572945</td>\n",
       "      <td>1</td>\n",
       "      <td>1</td>\n",
       "      <td>14</td>\n",
       "      <td>11</td>\n",
       "      <td>20170425</td>\n",
       "      <td>246502ATB</td>\n",
       "      <td>1.0</td>\n",
       "      <td>3</td>\n",
       "      <td>30</td>\n",
       "      <td>181.0</td>\n",
       "      <td>16290</td>\n",
       "      <td>20181126</td>\n",
       "    </tr>\n",
       "    <tr>\n",
       "      <th>2096</th>\n",
       "      <td>2017</td>\n",
       "      <td>764717</td>\n",
       "      <td>20045648</td>\n",
       "      <td>1</td>\n",
       "      <td>1</td>\n",
       "      <td>14</td>\n",
       "      <td>11</td>\n",
       "      <td>20170123</td>\n",
       "      <td>246502ATB</td>\n",
       "      <td>1.0</td>\n",
       "      <td>3</td>\n",
       "      <td>30</td>\n",
       "      <td>181.0</td>\n",
       "      <td>16290</td>\n",
       "      <td>20181126</td>\n",
       "    </tr>\n",
       "    <tr>\n",
       "      <th>2105</th>\n",
       "      <td>2017</td>\n",
       "      <td>764717</td>\n",
       "      <td>28098469</td>\n",
       "      <td>1</td>\n",
       "      <td>1</td>\n",
       "      <td>14</td>\n",
       "      <td>11</td>\n",
       "      <td>20170223</td>\n",
       "      <td>246502ATB</td>\n",
       "      <td>1.0</td>\n",
       "      <td>3</td>\n",
       "      <td>30</td>\n",
       "      <td>181.0</td>\n",
       "      <td>16290</td>\n",
       "      <td>20181126</td>\n",
       "    </tr>\n",
       "    <tr>\n",
       "      <th>2135</th>\n",
       "      <td>2017</td>\n",
       "      <td>764717</td>\n",
       "      <td>41002118</td>\n",
       "      <td>1</td>\n",
       "      <td>1</td>\n",
       "      <td>14</td>\n",
       "      <td>11</td>\n",
       "      <td>20170327</td>\n",
       "      <td>246502ATB</td>\n",
       "      <td>1.0</td>\n",
       "      <td>3</td>\n",
       "      <td>30</td>\n",
       "      <td>181.0</td>\n",
       "      <td>16290</td>\n",
       "      <td>20181126</td>\n",
       "    </tr>\n",
       "    <tr>\n",
       "      <th>...</th>\n",
       "      <td>...</td>\n",
       "      <td>...</td>\n",
       "      <td>...</td>\n",
       "      <td>...</td>\n",
       "      <td>...</td>\n",
       "      <td>...</td>\n",
       "      <td>...</td>\n",
       "      <td>...</td>\n",
       "      <td>...</td>\n",
       "      <td>...</td>\n",
       "      <td>...</td>\n",
       "      <td>...</td>\n",
       "      <td>...</td>\n",
       "      <td>...</td>\n",
       "      <td>...</td>\n",
       "    </tr>\n",
       "    <tr>\n",
       "      <th>9199737</th>\n",
       "      <td>2017</td>\n",
       "      <td>999901</td>\n",
       "      <td>33008472</td>\n",
       "      <td>1</td>\n",
       "      <td>1</td>\n",
       "      <td>11</td>\n",
       "      <td>28</td>\n",
       "      <td>20170302</td>\n",
       "      <td>246501ATB</td>\n",
       "      <td>1.0</td>\n",
       "      <td>2</td>\n",
       "      <td>70</td>\n",
       "      <td>90.0</td>\n",
       "      <td>12600</td>\n",
       "      <td>20181126</td>\n",
       "    </tr>\n",
       "    <tr>\n",
       "      <th>9199744</th>\n",
       "      <td>2017</td>\n",
       "      <td>999901</td>\n",
       "      <td>34238938</td>\n",
       "      <td>1</td>\n",
       "      <td>1</td>\n",
       "      <td>11</td>\n",
       "      <td>28</td>\n",
       "      <td>20170913</td>\n",
       "      <td>246501ATB</td>\n",
       "      <td>1.0</td>\n",
       "      <td>2</td>\n",
       "      <td>70</td>\n",
       "      <td>90.0</td>\n",
       "      <td>12600</td>\n",
       "      <td>20181126</td>\n",
       "    </tr>\n",
       "    <tr>\n",
       "      <th>9199755</th>\n",
       "      <td>2017</td>\n",
       "      <td>999901</td>\n",
       "      <td>47457167</td>\n",
       "      <td>1</td>\n",
       "      <td>1</td>\n",
       "      <td>11</td>\n",
       "      <td>28</td>\n",
       "      <td>20170717</td>\n",
       "      <td>246501ATB</td>\n",
       "      <td>1.0</td>\n",
       "      <td>2</td>\n",
       "      <td>56</td>\n",
       "      <td>90.0</td>\n",
       "      <td>10080</td>\n",
       "      <td>20181126</td>\n",
       "    </tr>\n",
       "    <tr>\n",
       "      <th>9200941</th>\n",
       "      <td>2017</td>\n",
       "      <td>999939</td>\n",
       "      <td>19460073</td>\n",
       "      <td>3</td>\n",
       "      <td>1</td>\n",
       "      <td>7</td>\n",
       "      <td>43</td>\n",
       "      <td>20170501</td>\n",
       "      <td>246501ATB</td>\n",
       "      <td>2.0</td>\n",
       "      <td>3</td>\n",
       "      <td>7</td>\n",
       "      <td>90.0</td>\n",
       "      <td>3780</td>\n",
       "      <td>20181126</td>\n",
       "    </tr>\n",
       "    <tr>\n",
       "      <th>9200945</th>\n",
       "      <td>2017</td>\n",
       "      <td>999939</td>\n",
       "      <td>48385370</td>\n",
       "      <td>3</td>\n",
       "      <td>1</td>\n",
       "      <td>7</td>\n",
       "      <td>43</td>\n",
       "      <td>20170424</td>\n",
       "      <td>246501ATB</td>\n",
       "      <td>2.0</td>\n",
       "      <td>3</td>\n",
       "      <td>7</td>\n",
       "      <td>90.0</td>\n",
       "      <td>3780</td>\n",
       "      <td>20181126</td>\n",
       "    </tr>\n",
       "  </tbody>\n",
       "</table>\n",
       "<p>17042 rows × 15 columns</p>\n",
       "</div>"
      ],
      "text/plain": [
       "         기준년도  가입자일련번호  처방내역일련번호  일련번호  성별코드  연령대코드(5세단위)  시도코드    요양개시일자  \\\n",
       "2069     2017   764717    275265     1     1           14    11  20170524   \n",
       "2074     2017   764717   4572945     1     1           14    11  20170425   \n",
       "2096     2017   764717  20045648     1     1           14    11  20170123   \n",
       "2105     2017   764717  28098469     1     1           14    11  20170223   \n",
       "2135     2017   764717  41002118     1     1           14    11  20170327   \n",
       "...       ...      ...       ...   ...   ...          ...   ...       ...   \n",
       "9199737  2017   999901  33008472     1     1           11    28  20170302   \n",
       "9199744  2017   999901  34238938     1     1           11    28  20170913   \n",
       "9199755  2017   999901  47457167     1     1           11    28  20170717   \n",
       "9200941  2017   999939  19460073     3     1            7    43  20170501   \n",
       "9200945  2017   999939  48385370     3     1            7    43  20170424   \n",
       "\n",
       "         약품일반성분명코드  1회 투약량  1일투약량  총투여일수     단가     금액  데이터 공개일자  \n",
       "2069     246502ATB     1.0      3     30  181.0  16290  20181126  \n",
       "2074     246502ATB     1.0      3     30  181.0  16290  20181126  \n",
       "2096     246502ATB     1.0      3     30  181.0  16290  20181126  \n",
       "2105     246502ATB     1.0      3     30  181.0  16290  20181126  \n",
       "2135     246502ATB     1.0      3     30  181.0  16290  20181126  \n",
       "...            ...     ...    ...    ...    ...    ...       ...  \n",
       "9199737  246501ATB     1.0      2     70   90.0  12600  20181126  \n",
       "9199744  246501ATB     1.0      2     70   90.0  12600  20181126  \n",
       "9199755  246501ATB     1.0      2     56   90.0  10080  20181126  \n",
       "9200941  246501ATB     2.0      3      7   90.0   3780  20181126  \n",
       "9200945  246501ATB     2.0      3      7   90.0   3780  20181126  \n",
       "\n",
       "[17042 rows x 15 columns]"
      ]
     },
     "execution_count": 12,
     "metadata": {},
     "output_type": "execute_result"
    }
   ],
   "source": [
    "# 우루사정100밀리그램 246501ATB\n",
    "# 우루사정200밀리그램 246502ATB\n",
    "# 우루사정300밀리그램 246506ATB\n",
    "# 우루사100mg연질캅셀 246501ACS\n",
    "# 우루사캅셀200mg 246502ACH\n",
    "# 우루사캡슐250밀리그램 246503ACH\n",
    "# 고덱스캡슐 427800ACH\n",
    "# [\"246501ATB\", \"246502ATB\", \"246506ATB\", \n",
    "# \"246501ACS\", \"246502ACH\", \"246503ACH\", \"427800ACH\"]\n",
    "\n",
    "ursa = nhis[\n",
    "    nhis[\"약품일반성분명코드\"].isin(\n",
    "        [\"246501ATB\", \"246502ATB\", \"246506ATB\", \n",
    "         \"246501ACS\", \"246502ACH\", \"246503ACH\", \"427800ACH\"])]\n",
    "ursa"
   ]
  },
  {
   "cell_type": "code",
   "execution_count": 6,
   "metadata": {},
   "outputs": [
    {
     "data": {
      "text/plain": [
       "(4703, 15)"
      ]
     },
     "execution_count": 6,
     "metadata": {},
     "output_type": "execute_result"
    }
   ],
   "source": [
    "# 고덱스인 427800ACH 만 가져와서 데이터의 갯수가 몇개인지 shape 로 봅니다.\n",
    "ursa[ursa[\"약품일반성분명코드\"] == \"427800ACH\"].shape"
   ]
  },
  {
   "cell_type": "code",
   "execution_count": 7,
   "metadata": {},
   "outputs": [
    {
     "data": {
      "text/plain": [
       "(17042, 15)"
      ]
     },
     "execution_count": 7,
     "metadata": {},
     "output_type": "execute_result"
    }
   ],
   "source": [
    "ursa.shape"
   ]
  },
  {
   "cell_type": "code",
   "execution_count": 8,
   "metadata": {},
   "outputs": [
    {
     "data": {
      "text/plain": [
       "246501ATB    6242\n",
       "246502ATB    5958\n",
       "427800ACH    4703\n",
       "246506ATB     134\n",
       "246503ACH       5\n",
       "Name: 약품일반성분명코드, dtype: int64"
      ]
     },
     "execution_count": 8,
     "metadata": {},
     "output_type": "execute_result"
    }
   ],
   "source": [
    "# \"약품일반성분명코드\"로 value_counts 를 구합니다.\n",
    "ursa[\"약품일반성분명코드\"].value_counts()"
   ]
  },
  {
   "cell_type": "code",
   "execution_count": 9,
   "metadata": {},
   "outputs": [],
   "source": [
    "# csv 파일로 저장합니다\n",
    "ursa.to_csv(f\"data/ursa_{year}_{part}.csv\", index=False)"
   ]
  },
  {
   "cell_type": "code",
   "execution_count": 10,
   "metadata": {},
   "outputs": [
    {
     "data": {
      "text/plain": [
       "(17042, 15)"
      ]
     },
     "execution_count": 10,
     "metadata": {},
     "output_type": "execute_result"
    }
   ],
   "source": [
    "# 제대로 저장되었는지 확인합니다.\n",
    "pd.read_csv(f\"data/ursa_{year}_{part}.csv\").shape"
   ]
  },
  {
   "cell_type": "code",
   "execution_count": null,
   "metadata": {},
   "outputs": [],
   "source": []
  },
  {
   "cell_type": "code",
   "execution_count": null,
   "metadata": {},
   "outputs": [],
   "source": []
  },
  {
   "cell_type": "code",
   "execution_count": null,
   "metadata": {},
   "outputs": [],
   "source": []
  },
  {
   "cell_type": "code",
   "execution_count": null,
   "metadata": {},
   "outputs": [],
   "source": []
  }
 ],
 "metadata": {
  "kernelspec": {
   "display_name": "Python 3",
   "language": "python",
   "name": "python3"
  },
  "language_info": {
   "codemirror_mode": {
    "name": "ipython",
    "version": 3
   },
   "file_extension": ".py",
   "mimetype": "text/x-python",
   "name": "python",
   "nbconvert_exporter": "python",
   "pygments_lexer": "ipython3",
   "version": "3.7.6"
  },
  "toc": {
   "base_numbering": 1,
   "nav_menu": {},
   "number_sections": true,
   "sideBar": true,
   "skip_h1_title": false,
   "title_cell": "Table of Contents",
   "title_sidebar": "Contents",
   "toc_cell": false,
   "toc_position": {},
   "toc_section_display": true,
   "toc_window_display": true
  },
  "varInspector": {
   "cols": {
    "lenName": 16,
    "lenType": 16,
    "lenVar": 40
   },
   "kernels_config": {
    "python": {
     "delete_cmd_postfix": "",
     "delete_cmd_prefix": "del ",
     "library": "var_list.py",
     "varRefreshCmd": "print(var_dic_list())"
    },
    "r": {
     "delete_cmd_postfix": ") ",
     "delete_cmd_prefix": "rm(",
     "library": "var_list.r",
     "varRefreshCmd": "cat(var_dic_list()) "
    }
   },
   "types_to_exclude": [
    "module",
    "function",
    "builtin_function_or_method",
    "instance",
    "_Feature"
   ],
   "window_display": false
  }
 },
 "nbformat": 4,
 "nbformat_minor": 2
}
