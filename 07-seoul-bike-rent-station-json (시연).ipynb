{
 "cells": [
  {
   "cell_type": "markdown",
   "metadata": {},
   "source": [
    "## 따릉이 대여소 크롤링\n",
    "* 대여소 조회 페이지 : https://www.bikeseoul.com:447/app/location/moveRealtimeStatus.do\n",
    "* 대여소 조회 페이지 : https://www.bikeseoul.com/app/station/moveStationRealtimeStatus.do"
   ]
  },
  {
   "cell_type": "code",
   "execution_count": 9,
   "metadata": {},
   "outputs": [],
   "source": [
    "import requests"
   ]
  },
  {
   "cell_type": "code",
   "execution_count": 12,
   "metadata": {},
   "outputs": [],
   "source": [
    "url = \"https://www.bikeseoul.com/app/station/getStationRealtimeStatus.do\""
   ]
  },
  {
   "cell_type": "code",
   "execution_count": 10,
   "metadata": {},
   "outputs": [],
   "source": [
    "response = requests.get(url)"
   ]
  },
  {
   "cell_type": "code",
   "execution_count": 24,
   "metadata": {},
   "outputs": [
    {
     "data": {
      "text/plain": [
       "[{'stationImgFileName': '',\n",
       "  'stationId': 'ST-485',\n",
       "  'lang': 'LAG_001',\n",
       "  'stationName': '1001. 광진교 남단 사거리(디지털프라자앞)',\n",
       "  'appOsType': None,\n",
       "  'searchType': None,\n",
       "  'stationUseYn': 'Y',\n",
       "  'stationLongitude': '127.12474823',\n",
       "  'stationLatitude': '37.54179382',\n",
       "  'rackTotCnt': '17',\n",
       "  'parkingBikeTotCnt': '2',\n",
       "  'shared': '12',\n",
       "  'rackUsableCnt': None},\n",
       " {'stationImgFileName': '',\n",
       "  'stationId': 'ST-486',\n",
       "  'lang': 'LAG_001',\n",
       "  'stationName': '1002. 해공공원(천호동)',\n",
       "  'appOsType': None,\n",
       "  'searchType': None,\n",
       "  'stationUseYn': 'Y',\n",
       "  'stationLongitude': '127.12594604',\n",
       "  'stationLatitude': '37.54526138',\n",
       "  'rackTotCnt': '12',\n",
       "  'parkingBikeTotCnt': '0',\n",
       "  'shared': '0',\n",
       "  'rackUsableCnt': None}]"
      ]
     },
     "execution_count": 24,
     "metadata": {},
     "output_type": "execute_result"
    }
   ],
   "source": [
    "import json\n",
    "station_json = json.loads(response.text)\n",
    "all_stations = station_json[\"realtimeList\"]\n",
    "all_stations[:2]"
   ]
  },
  {
   "cell_type": "code",
   "execution_count": 22,
   "metadata": {},
   "outputs": [
    {
     "data": {
      "text/plain": [
       "(2035, 13)"
      ]
     },
     "execution_count": 22,
     "metadata": {},
     "output_type": "execute_result"
    }
   ],
   "source": [
    "df = pd.DataFrame(all_stations)\n",
    "df.shape"
   ]
  },
  {
   "cell_type": "code",
   "execution_count": 19,
   "metadata": {},
   "outputs": [],
   "source": [
    "df.to_csv(\"seoul_bike_station_all.csv\", index=False)"
   ]
  },
  {
   "cell_type": "code",
   "execution_count": 21,
   "metadata": {},
   "outputs": [
    {
     "data": {
      "text/html": [
       "<div>\n",
       "<style scoped>\n",
       "    .dataframe tbody tr th:only-of-type {\n",
       "        vertical-align: middle;\n",
       "    }\n",
       "\n",
       "    .dataframe tbody tr th {\n",
       "        vertical-align: top;\n",
       "    }\n",
       "\n",
       "    .dataframe thead th {\n",
       "        text-align: right;\n",
       "    }\n",
       "</style>\n",
       "<table border=\"1\" class=\"dataframe\">\n",
       "  <thead>\n",
       "    <tr style=\"text-align: right;\">\n",
       "      <th></th>\n",
       "      <th>stationImgFileName</th>\n",
       "      <th>stationId</th>\n",
       "      <th>lang</th>\n",
       "      <th>stationName</th>\n",
       "      <th>appOsType</th>\n",
       "      <th>searchType</th>\n",
       "      <th>stationUseYn</th>\n",
       "      <th>stationLongitude</th>\n",
       "      <th>stationLatitude</th>\n",
       "      <th>rackTotCnt</th>\n",
       "      <th>parkingBikeTotCnt</th>\n",
       "      <th>shared</th>\n",
       "      <th>rackUsableCnt</th>\n",
       "    </tr>\n",
       "  </thead>\n",
       "  <tbody>\n",
       "    <tr>\n",
       "      <th>0</th>\n",
       "      <td>NaN</td>\n",
       "      <td>ST-485</td>\n",
       "      <td>LAG_001</td>\n",
       "      <td>1001. 광진교 남단 사거리(디지털프라자앞)</td>\n",
       "      <td>NaN</td>\n",
       "      <td>NaN</td>\n",
       "      <td>Y</td>\n",
       "      <td>127.124748</td>\n",
       "      <td>37.541794</td>\n",
       "      <td>17</td>\n",
       "      <td>2</td>\n",
       "      <td>12</td>\n",
       "      <td>NaN</td>\n",
       "    </tr>\n",
       "    <tr>\n",
       "      <th>1</th>\n",
       "      <td>NaN</td>\n",
       "      <td>ST-486</td>\n",
       "      <td>LAG_001</td>\n",
       "      <td>1002. 해공공원(천호동)</td>\n",
       "      <td>NaN</td>\n",
       "      <td>NaN</td>\n",
       "      <td>Y</td>\n",
       "      <td>127.125946</td>\n",
       "      <td>37.545261</td>\n",
       "      <td>12</td>\n",
       "      <td>0</td>\n",
       "      <td>0</td>\n",
       "      <td>NaN</td>\n",
       "    </tr>\n",
       "    <tr>\n",
       "      <th>2</th>\n",
       "      <td>NaN</td>\n",
       "      <td>ST-487</td>\n",
       "      <td>LAG_001</td>\n",
       "      <td>1003. 해공도서관앞</td>\n",
       "      <td>NaN</td>\n",
       "      <td>NaN</td>\n",
       "      <td>Y</td>\n",
       "      <td>127.125488</td>\n",
       "      <td>37.543957</td>\n",
       "      <td>22</td>\n",
       "      <td>0</td>\n",
       "      <td>0</td>\n",
       "      <td>NaN</td>\n",
       "    </tr>\n",
       "    <tr>\n",
       "      <th>3</th>\n",
       "      <td>NaN</td>\n",
       "      <td>ST-488</td>\n",
       "      <td>LAG_001</td>\n",
       "      <td>1004. 삼성광나루아파트 버스정류장</td>\n",
       "      <td>NaN</td>\n",
       "      <td>NaN</td>\n",
       "      <td>Y</td>\n",
       "      <td>127.128868</td>\n",
       "      <td>37.553329</td>\n",
       "      <td>12</td>\n",
       "      <td>2</td>\n",
       "      <td>17</td>\n",
       "      <td>NaN</td>\n",
       "    </tr>\n",
       "    <tr>\n",
       "      <th>4</th>\n",
       "      <td>NaN</td>\n",
       "      <td>ST-490</td>\n",
       "      <td>LAG_001</td>\n",
       "      <td>1006. 롯데캐슬 115동앞</td>\n",
       "      <td>NaN</td>\n",
       "      <td>NaN</td>\n",
       "      <td>Y</td>\n",
       "      <td>127.142799</td>\n",
       "      <td>37.554867</td>\n",
       "      <td>17</td>\n",
       "      <td>0</td>\n",
       "      <td>0</td>\n",
       "      <td>NaN</td>\n",
       "    </tr>\n",
       "  </tbody>\n",
       "</table>\n",
       "</div>"
      ],
      "text/plain": [
       "   stationImgFileName stationId     lang                stationName  \\\n",
       "0                 NaN    ST-485  LAG_001  1001. 광진교 남단 사거리(디지털프라자앞)   \n",
       "1                 NaN    ST-486  LAG_001            1002. 해공공원(천호동)   \n",
       "2                 NaN    ST-487  LAG_001               1003. 해공도서관앞   \n",
       "3                 NaN    ST-488  LAG_001       1004. 삼성광나루아파트 버스정류장   \n",
       "4                 NaN    ST-490  LAG_001           1006. 롯데캐슬 115동앞   \n",
       "\n",
       "   appOsType  searchType stationUseYn  stationLongitude  stationLatitude  \\\n",
       "0        NaN         NaN            Y        127.124748        37.541794   \n",
       "1        NaN         NaN            Y        127.125946        37.545261   \n",
       "2        NaN         NaN            Y        127.125488        37.543957   \n",
       "3        NaN         NaN            Y        127.128868        37.553329   \n",
       "4        NaN         NaN            Y        127.142799        37.554867   \n",
       "\n",
       "   rackTotCnt  parkingBikeTotCnt  shared  rackUsableCnt  \n",
       "0          17                  2      12            NaN  \n",
       "1          12                  0       0            NaN  \n",
       "2          22                  0       0            NaN  \n",
       "3          12                  2      17            NaN  \n",
       "4          17                  0       0            NaN  "
      ]
     },
     "execution_count": 21,
     "metadata": {},
     "output_type": "execute_result"
    }
   ],
   "source": [
    "pd.read_csv(\"seoul_bike_station_all.csv\").head()"
   ]
  },
  {
   "cell_type": "code",
   "execution_count": null,
   "metadata": {},
   "outputs": [],
   "source": []
  },
  {
   "cell_type": "markdown",
   "metadata": {},
   "source": [
    "## 과제"
   ]
  },
  {
   "cell_type": "code",
   "execution_count": 25,
   "metadata": {},
   "outputs": [],
   "source": [
    "# LG전자\n",
    "url = \"https://finance.naver.com/item/sise.nhn?code=066570\""
   ]
  },
  {
   "cell_type": "code",
   "execution_count": 28,
   "metadata": {},
   "outputs": [],
   "source": [
    "table = pd.read_html(url, encoding=\"cp949\")"
   ]
  },
  {
   "cell_type": "code",
   "execution_count": 29,
   "metadata": {},
   "outputs": [
    {
     "data": {
      "text/plain": [
       "12"
      ]
     },
     "execution_count": 29,
     "metadata": {},
     "output_type": "execute_result"
    }
   ],
   "source": [
    "len(table)"
   ]
  },
  {
   "cell_type": "code",
   "execution_count": 34,
   "metadata": {},
   "outputs": [
    {
     "data": {
      "text/plain": [
       "[                    0                                          1  \\\n",
       " 0  전일  77,200  77,200  고가  86,20086,200  (상한가  100,000100,000  )   \n",
       " 1    시가  77,10077,100          저가  76,50076,500  (하한가  54,100  )   \n",
       " \n",
       "                             2  \n",
       " 0   거래량  3,683,348  3,683,348  \n",
       " 1  거래대금  306,135  306,135  백만  ,\n",
       "            0          1       2          3\n",
       " 0        현재가      85700    매도호가      85800\n",
       " 1       전일대비  상승  8,500    매수호가      85700\n",
       " 2     등락률(%)    +11.01%     전일가      77200\n",
       " 3        거래량    3683348      시가      77100\n",
       " 4   거래대금(백만)     306135      고가      86200\n",
       " 5        액면가     5,000원      저가      76500\n",
       " 6        NaN        NaN     NaN        NaN\n",
       " 7        상한가     100000    전일상한     100000\n",
       " 8        하한가      54100    전일하한      54100\n",
       " 9        PER      31.89     EPS       2687\n",
       " 10    52주 최고      78900  52주 최저      41600\n",
       " 11      시가총액  140,246억원   상장주식수  163647814\n",
       " 12     외국인현재   55,329천주     자본금  818,239백만,\n",
       "        매도잔량     매도호가  Unnamed: 2     매수호가    매수잔량\n",
       " 0       NaN      NaN         NaN      NaN     NaN\n",
       " 1   12884.0  86200.0         NaN      NaN     NaN\n",
       " 2    4566.0  86100.0         NaN      NaN     NaN\n",
       " 3   27144.0  86000.0         NaN      NaN     NaN\n",
       " 4    7724.0  85900.0         NaN      NaN     NaN\n",
       " 5   10051.0  85800.0         NaN      NaN     NaN\n",
       " 6       NaN      NaN         NaN      NaN     NaN\n",
       " 7       NaN      NaN         NaN      NaN     NaN\n",
       " 8       NaN      NaN         NaN      NaN     NaN\n",
       " 9       NaN      NaN         NaN  85700.0  1629.0\n",
       " 10      NaN      NaN         NaN  85600.0  7576.0\n",
       " 11      NaN      NaN         NaN  85500.0   650.0\n",
       " 12      NaN      NaN         NaN  85400.0  6009.0\n",
       " 13      NaN      NaN         NaN  85300.0  5900.0\n",
       " 14      NaN      NaN         NaN      NaN     NaN,\n",
       "        0     1      2\n",
       " 0  91412  잔량합계  38478,\n",
       "           0              1\n",
       " 0      시가총액   14조  246  억원\n",
       " 1    시가총액순위        코스피 24위\n",
       " 2     상장주식수      163647814\n",
       " 3  액면가l매매단위  5,000원  l  1주,\n",
       "              0          1\n",
       " 0  외국인한도주식수(A)  163647814\n",
       " 1  외국인보유주식수(B)   55328691\n",
       " 2  외국인소진율(B/A)     33.81%,\n",
       "            0                  1\n",
       " 0  투자의견l목표주가  4.00매수  l  86,843\n",
       " 1   52주최고l최저  78,900  l  41,600,\n",
       "                    0                  1\n",
       " 0   PERlEPS(2020.03)  31.89배  l  2,687원\n",
       " 1          추정PERlEPS  11.00배  l  8,089원\n",
       " 2  PBRlBPS (2020.03)     ∞배  l  84,434원\n",
       " 3      배당수익률l2019.12              0.88%,\n",
       "           0        1\n",
       " 0  동일업종 PER   38.02배\n",
       " 1  동일업종 등락률  +10.36%,\n",
       "        매도잔량 호가(20분지연)     매수잔량\n",
       " 0       NaN       NaN      NaN\n",
       " 1    3036.0     86700      NaN\n",
       " 2    1779.0     86600      NaN\n",
       " 3   14164.0     86500      NaN\n",
       " 4    5427.0     86400      NaN\n",
       " 5    4637.0     86300      NaN\n",
       " 6   12884.0     86200      NaN\n",
       " 7    4566.0     86100      NaN\n",
       " 8   27144.0     86000      NaN\n",
       " 9    7724.0     85900      NaN\n",
       " 10  10051.0     85800      NaN\n",
       " 11      NaN       NaN      NaN\n",
       " 12      NaN     85700   1629.0\n",
       " 13      NaN     85600   7576.0\n",
       " 14      NaN     85500    650.0\n",
       " 15      NaN     85400   6009.0\n",
       " 16      NaN     85300   5900.0\n",
       " 17      NaN     85200   4885.0\n",
       " 18      NaN     85100   5236.0\n",
       " 19      NaN     85000   3080.0\n",
       " 20      NaN     84900   2468.0\n",
       " 21      NaN     84800   1045.0\n",
       " 22      NaN       NaN      NaN\n",
       " 23  91412.0      잔량합계  38478.0,\n",
       "         업체명       거래량          전일비\n",
       " 0       현대차  170000.0   상향  23,000\n",
       " 1     SK케미칼  401500.0   상향  62,500\n",
       " 2      삼성전자   57800.0      상향  300\n",
       " 3      LG화학  720000.0   하향  26,000\n",
       " 4   SK디스커버리   67200.0  상한가  15,500\n",
       " 5       NaN       NaN          NaN\n",
       " 6      셀트리온  315000.0      상향  500\n",
       " 7      LG전자   85700.0    상향  8,500\n",
       " 8       카카오  356000.0    상향  3,000\n",
       " 9   SK이노베이션  186000.0    상향  2,000\n",
       " 10     신풍제약   75600.0      하향  500,\n",
       "          업체명       거래량         전일비\n",
       " 0     엑세스바이오   17200.0  상한가  3,950\n",
       " 1         씨젠  310700.0   하향  1,500\n",
       " 2        수젠텍   51400.0   하향  2,100\n",
       " 3      씨아이에스    7810.0   상향  1,640\n",
       " 4   셀트리온헬스..  107500.0     상향  800\n",
       " 5        NaN       NaN         NaN\n",
       " 6      에이스테크   27600.0   상향  1,550\n",
       " 7      바이오니아   33600.0   상향  5,600\n",
       " 8       한국파마   16850.0   하향  1,150\n",
       " 9        뉴지랩   13850.0     상향  100\n",
       " 10  유바이오로직..   29500.0   하향  1,450]"
      ]
     },
     "execution_count": 34,
     "metadata": {},
     "output_type": "execute_result"
    }
   ],
   "source": [
    "table"
   ]
  },
  {
   "cell_type": "code",
   "execution_count": 4,
   "metadata": {},
   "outputs": [],
   "source": []
  },
  {
   "cell_type": "code",
   "execution_count": null,
   "metadata": {},
   "outputs": [],
   "source": []
  },
  {
   "cell_type": "code",
   "execution_count": 37,
   "metadata": {},
   "outputs": [],
   "source": [
    "table = pd.read_html(sise_url)"
   ]
  },
  {
   "cell_type": "code",
   "execution_count": 39,
   "metadata": {},
   "outputs": [
    {
     "data": {
      "text/html": [
       "<div>\n",
       "<style scoped>\n",
       "    .dataframe tbody tr th:only-of-type {\n",
       "        vertical-align: middle;\n",
       "    }\n",
       "\n",
       "    .dataframe tbody tr th {\n",
       "        vertical-align: top;\n",
       "    }\n",
       "\n",
       "    .dataframe thead th {\n",
       "        text-align: right;\n",
       "    }\n",
       "</style>\n",
       "<table border=\"1\" class=\"dataframe\">\n",
       "  <thead>\n",
       "    <tr style=\"text-align: right;\">\n",
       "      <th></th>\n",
       "      <th>날짜</th>\n",
       "      <th>종가</th>\n",
       "      <th>전일비</th>\n",
       "      <th>시가</th>\n",
       "      <th>고가</th>\n",
       "      <th>저가</th>\n",
       "      <th>거래량</th>\n",
       "    </tr>\n",
       "  </thead>\n",
       "  <tbody>\n",
       "    <tr>\n",
       "      <th>1</th>\n",
       "      <td>2020.05.18</td>\n",
       "      <td>56400.0</td>\n",
       "      <td>2000.0</td>\n",
       "      <td>54800.0</td>\n",
       "      <td>56400.0</td>\n",
       "      <td>54400.0</td>\n",
       "      <td>1005066.0</td>\n",
       "    </tr>\n",
       "    <tr>\n",
       "      <th>2</th>\n",
       "      <td>2020.05.15</td>\n",
       "      <td>54400.0</td>\n",
       "      <td>200.0</td>\n",
       "      <td>54200.0</td>\n",
       "      <td>54500.0</td>\n",
       "      <td>53400.0</td>\n",
       "      <td>504474.0</td>\n",
       "    </tr>\n",
       "    <tr>\n",
       "      <th>3</th>\n",
       "      <td>2020.05.14</td>\n",
       "      <td>54200.0</td>\n",
       "      <td>800.0</td>\n",
       "      <td>54500.0</td>\n",
       "      <td>54900.0</td>\n",
       "      <td>53900.0</td>\n",
       "      <td>593689.0</td>\n",
       "    </tr>\n",
       "    <tr>\n",
       "      <th>4</th>\n",
       "      <td>2020.05.13</td>\n",
       "      <td>55000.0</td>\n",
       "      <td>500.0</td>\n",
       "      <td>53800.0</td>\n",
       "      <td>55000.0</td>\n",
       "      <td>53600.0</td>\n",
       "      <td>577061.0</td>\n",
       "    </tr>\n",
       "    <tr>\n",
       "      <th>5</th>\n",
       "      <td>2020.05.12</td>\n",
       "      <td>54500.0</td>\n",
       "      <td>0.0</td>\n",
       "      <td>54600.0</td>\n",
       "      <td>55400.0</td>\n",
       "      <td>54000.0</td>\n",
       "      <td>707739.0</td>\n",
       "    </tr>\n",
       "    <tr>\n",
       "      <th>9</th>\n",
       "      <td>2020.05.11</td>\n",
       "      <td>54500.0</td>\n",
       "      <td>700.0</td>\n",
       "      <td>55400.0</td>\n",
       "      <td>55700.0</td>\n",
       "      <td>54300.0</td>\n",
       "      <td>536547.0</td>\n",
       "    </tr>\n",
       "    <tr>\n",
       "      <th>10</th>\n",
       "      <td>2020.05.08</td>\n",
       "      <td>55200.0</td>\n",
       "      <td>500.0</td>\n",
       "      <td>55000.0</td>\n",
       "      <td>55500.0</td>\n",
       "      <td>54900.0</td>\n",
       "      <td>632501.0</td>\n",
       "    </tr>\n",
       "    <tr>\n",
       "      <th>11</th>\n",
       "      <td>2020.05.07</td>\n",
       "      <td>54700.0</td>\n",
       "      <td>800.0</td>\n",
       "      <td>55100.0</td>\n",
       "      <td>55100.0</td>\n",
       "      <td>54100.0</td>\n",
       "      <td>754248.0</td>\n",
       "    </tr>\n",
       "    <tr>\n",
       "      <th>12</th>\n",
       "      <td>2020.05.06</td>\n",
       "      <td>55500.0</td>\n",
       "      <td>300.0</td>\n",
       "      <td>56300.0</td>\n",
       "      <td>56400.0</td>\n",
       "      <td>55200.0</td>\n",
       "      <td>805783.0</td>\n",
       "    </tr>\n",
       "    <tr>\n",
       "      <th>13</th>\n",
       "      <td>2020.05.04</td>\n",
       "      <td>55200.0</td>\n",
       "      <td>300.0</td>\n",
       "      <td>54000.0</td>\n",
       "      <td>55800.0</td>\n",
       "      <td>53400.0</td>\n",
       "      <td>1119161.0</td>\n",
       "    </tr>\n",
       "  </tbody>\n",
       "</table>\n",
       "</div>"
      ],
      "text/plain": [
       "            날짜       종가     전일비       시가       고가       저가        거래량\n",
       "1   2020.05.18  56400.0  2000.0  54800.0  56400.0  54400.0  1005066.0\n",
       "2   2020.05.15  54400.0   200.0  54200.0  54500.0  53400.0   504474.0\n",
       "3   2020.05.14  54200.0   800.0  54500.0  54900.0  53900.0   593689.0\n",
       "4   2020.05.13  55000.0   500.0  53800.0  55000.0  53600.0   577061.0\n",
       "5   2020.05.12  54500.0     0.0  54600.0  55400.0  54000.0   707739.0\n",
       "9   2020.05.11  54500.0   700.0  55400.0  55700.0  54300.0   536547.0\n",
       "10  2020.05.08  55200.0   500.0  55000.0  55500.0  54900.0   632501.0\n",
       "11  2020.05.07  54700.0   800.0  55100.0  55100.0  54100.0   754248.0\n",
       "12  2020.05.06  55500.0   300.0  56300.0  56400.0  55200.0   805783.0\n",
       "13  2020.05.04  55200.0   300.0  54000.0  55800.0  53400.0  1119161.0"
      ]
     },
     "execution_count": 39,
     "metadata": {},
     "output_type": "execute_result"
    }
   ],
   "source": [
    "table[0].dropna()"
   ]
  },
  {
   "cell_type": "code",
   "execution_count": null,
   "metadata": {},
   "outputs": [],
   "source": []
  },
  {
   "cell_type": "code",
   "execution_count": null,
   "metadata": {},
   "outputs": [],
   "source": []
  }
 ],
 "metadata": {
  "kernelspec": {
   "display_name": "Python 3",
   "language": "python",
   "name": "python3"
  },
  "language_info": {
   "codemirror_mode": {
    "name": "ipython",
    "version": 3
   },
   "file_extension": ".py",
   "mimetype": "text/x-python",
   "name": "python",
   "nbconvert_exporter": "python",
   "pygments_lexer": "ipython3",
   "version": "3.7.6"
  },
  "toc": {
   "base_numbering": 1,
   "nav_menu": {},
   "number_sections": true,
   "sideBar": true,
   "skip_h1_title": false,
   "title_cell": "Table of Contents",
   "title_sidebar": "Contents",
   "toc_cell": false,
   "toc_position": {},
   "toc_section_display": true,
   "toc_window_display": false
  },
  "varInspector": {
   "cols": {
    "lenName": 16,
    "lenType": 16,
    "lenVar": 40
   },
   "kernels_config": {
    "python": {
     "delete_cmd_postfix": "",
     "delete_cmd_prefix": "del ",
     "library": "var_list.py",
     "varRefreshCmd": "print(var_dic_list())"
    },
    "r": {
     "delete_cmd_postfix": ") ",
     "delete_cmd_prefix": "rm(",
     "library": "var_list.r",
     "varRefreshCmd": "cat(var_dic_list()) "
    }
   },
   "types_to_exclude": [
    "module",
    "function",
    "builtin_function_or_method",
    "instance",
    "_Feature"
   ],
   "window_display": false
  }
 },
 "nbformat": 4,
 "nbformat_minor": 2
}
