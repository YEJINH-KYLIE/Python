{
 "cells": [
  {
   "cell_type": "markdown",
   "metadata": {},
   "source": [
    "# 크롤링으로 위경도 가져오기\n",
    "* 따릉이 대여소 정보 가져오기\n",
    "* 크롤링 위치 : https://www.bikeseoul.com/app/station/moveStationSearchView.do?currentPageNo=1\n"
   ]
  },
  {
   "cell_type": "code",
   "execution_count": 39,
   "metadata": {},
   "outputs": [],
   "source": [
    "# 라이브러리 로드\n",
    "# requests는 작은 웹브라우저로 웹사이트 내용을 가져옵니다.\n",
    "import requests\n",
    "\n",
    "# bs4에서 BeautifulSoup 을 bs 라는 별칭으로 읽어옵니다. 웹페이지를 파싱합니다.\n",
    "from bs4 import BeautifulSoup as bs\n",
    "\n",
    "# random은 랜덤한 시간차를 두고 가져오기 위해 사용합니다.\n",
    "import random \n",
    "\n",
    "# time 으로 시간을 구합니다.\n",
    "import time\n",
    "\n",
    "# 크롤링 후 결과를 데이터프레임 형태로 보기 위해 판다스를 불러옵니다.\n",
    "import pandas as pd"
   ]
  },
  {
   "cell_type": "markdown",
   "metadata": {},
   "source": [
    "## 전체 목록 받아오기\n",
    "\n",
    "1. requests.get 으로 url을 읽어옵니다.\n",
    "1. response.status_code != 200 HTTP 응답값을 확인합니다.\n",
    "1. bs(response.text, 'html.parser') 로 파싱합니다.\n",
    "1. 복사해온 html 엘리먼트 값을 사용해서 크롤링하고자 하는 태그를 찾습니다.\n",
    "1. not tbody 로 tobody 값이 없다면 종료하도록 합니다.\n",
    "1. www.bikeseoul.com 사이트의 서버에 부담을 덜 주기 위해 시간차를 두고 가져옵니다.\n",
    "time.sleep(random.uniform(1,3))\n",
    "1. 크롤링 해서 가져온 대여소 정보를 리스트에 담아 줍니다.\n",
    "1. 몇 페이지를 크롤링 하고 있는지 찍어봅니다. \n",
    "1. 페이지 하나를 불러왔다면 페이지 번호를 넣어주면 해당 페이지를 불러오는 함수를 만듭니다.\n",
    "1. 이전 결과가 있다면 페이지번호를 하나씩 더해서 재귀호출을 합니다.\n",
    "1. 같은 함수를 재귀호출해서 실행합니다.\n",
    "1. 함수 내부에 response의 tbody 값을 전달해 각 대여소의 상세 정보를 받아오는 함수를 작성합니다."
   ]
  },
  {
   "cell_type": "code",
   "execution_count": 40,
   "metadata": {},
   "outputs": [],
   "source": [
    "# 크롤링 할 사이트\n",
    "base_url = 'https://www.bikeseoul.com/app/station/moveStationSearchView.do?currentPageNo='"
   ]
  },
  {
   "cell_type": "code",
   "execution_count": 41,
   "metadata": {},
   "outputs": [
    {
     "data": {
      "text/html": [
       "<div>\n",
       "<style scoped>\n",
       "    .dataframe tbody tr th:only-of-type {\n",
       "        vertical-align: middle;\n",
       "    }\n",
       "\n",
       "    .dataframe tbody tr th {\n",
       "        vertical-align: top;\n",
       "    }\n",
       "\n",
       "    .dataframe thead th {\n",
       "        text-align: right;\n",
       "    }\n",
       "</style>\n",
       "<table border=\"1\" class=\"dataframe\">\n",
       "  <thead>\n",
       "    <tr style=\"text-align: right;\">\n",
       "      <th></th>\n",
       "      <th>대여소 이름</th>\n",
       "      <th>상태정보</th>\n",
       "      <th>거치대수</th>\n",
       "      <th>대여가능거치대수</th>\n",
       "      <th>위치</th>\n",
       "    </tr>\n",
       "  </thead>\n",
       "  <tbody>\n",
       "    <tr>\n",
       "      <th>0</th>\n",
       "      <td>1001. 광진교 남단 사거리(디지털프라자앞)</td>\n",
       "      <td>운영중</td>\n",
       "      <td>15</td>\n",
       "      <td>2</td>\n",
       "      <td>서울특별시 강동구 올림픽로 674 로석빌딩</td>\n",
       "    </tr>\n",
       "    <tr>\n",
       "      <th>1</th>\n",
       "      <td>1002. 해공공원(천호동)</td>\n",
       "      <td>운영중</td>\n",
       "      <td>10</td>\n",
       "      <td>1</td>\n",
       "      <td>서울특별시 강동구 올림픽로 702 해공도서관</td>\n",
       "    </tr>\n",
       "    <tr>\n",
       "      <th>2</th>\n",
       "      <td>1003. 해공도서관앞</td>\n",
       "      <td>운영중</td>\n",
       "      <td>20</td>\n",
       "      <td>0</td>\n",
       "      <td>서울특별시 강동구 올림픽로 702 해공도서관</td>\n",
       "    </tr>\n",
       "    <tr>\n",
       "      <th>3</th>\n",
       "      <td>1004. 삼성광나루아파트 버스정류장</td>\n",
       "      <td>운영중</td>\n",
       "      <td>10</td>\n",
       "      <td>1</td>\n",
       "      <td>서울특별시 강동구 올림픽로 812</td>\n",
       "    </tr>\n",
       "    <tr>\n",
       "      <th>4</th>\n",
       "      <td>1006. 롯데캐슬 115동앞</td>\n",
       "      <td>운영중</td>\n",
       "      <td>15</td>\n",
       "      <td>0</td>\n",
       "      <td>서울특별시 강동구 고덕로 131 강동 롯데캐슬퍼스트아파트</td>\n",
       "    </tr>\n",
       "  </tbody>\n",
       "</table>\n",
       "</div>"
      ],
      "text/plain": [
       "                      대여소 이름 상태정보  거치대수  대여가능거치대수  \\\n",
       "0  1001. 광진교 남단 사거리(디지털프라자앞)  운영중    15         2   \n",
       "1            1002. 해공공원(천호동)  운영중    10         1   \n",
       "2               1003. 해공도서관앞  운영중    20         0   \n",
       "3       1004. 삼성광나루아파트 버스정류장  운영중    10         1   \n",
       "4           1006. 롯데캐슬 115동앞  운영중    15         0   \n",
       "\n",
       "                                위치  \n",
       "0          서울특별시 강동구 올림픽로 674 로석빌딩  \n",
       "1         서울특별시 강동구 올림픽로 702 해공도서관  \n",
       "2         서울특별시 강동구 올림픽로 702 해공도서관  \n",
       "3               서울특별시 강동구 올림픽로 812  \n",
       "4  서울특별시 강동구 고덕로 131 강동 롯데캐슬퍼스트아파트  "
      ]
     },
     "execution_count": 41,
     "metadata": {},
     "output_type": "execute_result"
    }
   ],
   "source": [
    "# pd.read_html(base_url+\"1\")\n",
    "table = pd.read_html(f\"{base_url}1\")\n",
    "table[0]"
   ]
  },
  {
   "cell_type": "markdown",
   "metadata": {},
   "source": [
    "## 각 대여소의 정보를 받아오기\n",
    "1. tbody 값이 있는지 확인합니다.\n",
    "1. tr을 반복문으로 순회합니다.\n",
    "1. '.' 이 대여소명에 들어가는지 확인하고 이 문자로 대여소 번호와 대여소명을 가져옵니다. \n",
    "1. get_text()를 통해 문자만 가져올 수 있습니다.\n",
    "1. 없다면 대여소번호를 np.nan 으로 결측치를 넣어주고 대여소는 텍스트 데이터를 넣어줍니다.\n",
    "1. 거치대수를 가져옵니다.\n",
    "1. 운영여부를 가져옵니다.\n",
    "1. 주소를 가져옵니다.\n",
    "1. 위도, 경도를 가져옵니다 .find('a')['param-data'] 로 찾습니다.\n",
    "1. 위도, 경도를 \",\" 문자로 분리합니다.\n",
    "1. 대여소 리스트에 info 리스트를 담습니다.\n",
    "1. rent_stations 에 담고 다 만들었다면 반환합니다."
   ]
  },
  {
   "cell_type": "code",
   "execution_count": 42,
   "metadata": {},
   "outputs": [
    {
     "data": {
      "text/plain": [
       "'https://www.bikeseoul.com/app/station/moveStationSearchView.do?currentPageNo='"
      ]
     },
     "execution_count": 42,
     "metadata": {},
     "output_type": "execute_result"
    }
   ],
   "source": [
    "base_url"
   ]
  },
  {
   "cell_type": "code",
   "execution_count": 43,
   "metadata": {},
   "outputs": [],
   "source": [
    "response = requests.get(f\"{base_url}1\")"
   ]
  },
  {
   "cell_type": "code",
   "execution_count": 44,
   "metadata": {},
   "outputs": [
    {
     "data": {
      "text/plain": [
       "str"
      ]
     },
     "execution_count": 44,
     "metadata": {},
     "output_type": "execute_result"
    }
   ],
   "source": [
    "type(response.text)"
   ]
  },
  {
   "cell_type": "code",
   "execution_count": 45,
   "metadata": {},
   "outputs": [
    {
     "data": {
      "text/plain": [
       "bs4.BeautifulSoup"
      ]
     },
     "execution_count": 45,
     "metadata": {},
     "output_type": "execute_result"
    }
   ],
   "source": [
    "html = bs(response.text)\n",
    "type(html)"
   ]
  },
  {
   "cell_type": "code",
   "execution_count": 46,
   "metadata": {},
   "outputs": [
    {
     "data": {
      "text/plain": [
       "5"
      ]
     },
     "execution_count": 46,
     "metadata": {},
     "output_type": "execute_result"
    }
   ],
   "source": [
    "# # => id\n",
    "# . => class\n",
    "#container > table > tbody > tr:nth-child(1) > td:nth-child(1) > a\n",
    "\n",
    "trs = html.select(\"#container > table > tbody > tr\")\n",
    "len(trs)"
   ]
  },
  {
   "cell_type": "code",
   "execution_count": 47,
   "metadata": {},
   "outputs": [
    {
     "data": {
      "text/plain": [
       "'1001. 광진교 남단 사거리(디지털프라자앞)'"
      ]
     },
     "execution_count": 47,
     "metadata": {},
     "output_type": "execute_result"
    }
   ],
   "source": [
    "# 대여소명\n",
    "trs[0].select(\"td\")[0].get_text()"
   ]
  },
  {
   "cell_type": "code",
   "execution_count": 48,
   "metadata": {},
   "outputs": [
    {
     "data": {
      "text/plain": [
       "['37.54179382', '127.12474823']"
      ]
     },
     "execution_count": 48,
     "metadata": {},
     "output_type": "execute_result"
    }
   ],
   "source": [
    "trs[0].select(\"td\")[0].select(\"a\")[0][\"param-data\"].split(\",\")"
   ]
  },
  {
   "cell_type": "code",
   "execution_count": 49,
   "metadata": {},
   "outputs": [],
   "source": [
    "#fist_thisBestseller_img\n",
    "#bestseller_list > li:nth-child(1) > dl > dt.thumb"
   ]
  },
  {
   "cell_type": "code",
   "execution_count": 50,
   "metadata": {},
   "outputs": [
    {
     "data": {
      "text/plain": [
       "<tr>\n",
       "<td class=\"pl10\"><a href=\"#\" param-data=\"37.54179382,127.12474823\">1001. 광진교 남단 사거리(디지털프라자앞)</a></td>\n",
       "<td class=\"pl10\">\n",
       "                        운영중</td>\n",
       "<td class=\"tr\">15</td>\n",
       "<td class=\"tr\">2</td>\n",
       "<td class=\"tbleft mhid\"><span>서울특별시 강동구 올림픽로 674 로석빌딩 </span></td>\n",
       "</tr>"
      ]
     },
     "execution_count": 50,
     "metadata": {},
     "output_type": "execute_result"
    }
   ],
   "source": [
    "trs[0]"
   ]
  },
  {
   "cell_type": "code",
   "execution_count": 51,
   "metadata": {},
   "outputs": [
    {
     "data": {
      "text/plain": [
       "'\\r\\n                        운영중'"
      ]
     },
     "execution_count": 51,
     "metadata": {},
     "output_type": "execute_result"
    }
   ],
   "source": [
    "trs[0].select(\"td\")[1].get_text()"
   ]
  },
  {
   "cell_type": "code",
   "execution_count": 52,
   "metadata": {},
   "outputs": [
    {
     "data": {
      "text/plain": [
       "'1001. 광진교 남단 사거리(디지털프라자앞)'"
      ]
     },
     "execution_count": 52,
     "metadata": {},
     "output_type": "execute_result"
    }
   ],
   "source": [
    "trs[0].select(\"td\")[0].get_text(strip=True)"
   ]
  },
  {
   "cell_type": "code",
   "execution_count": 53,
   "metadata": {},
   "outputs": [],
   "source": [
    "#  info = []\n",
    "        # 대여소번호, 대여소명\n",
    "        # 거치대수\n",
    "        # 운영여부\n",
    "        # 주소\n",
    "        # 위도, 경도\n",
    "def parse_tr(tr):\n",
    "    info = []\n",
    "    \n",
    "    title = tr.select(\"td\")[0].get_text()\n",
    "    lat = tr.select(\"td\")[0].select(\"a\")[0][\"param-data\"].split(\",\")[0]\n",
    "    long = tr.select(\"td\")[0].select(\"a\")[0][\"param-data\"].split(\",\")[1]\n",
    "    onoff = tr.select(\"td\")[1].get_text(strip=True)\n",
    "    address = tr.select(\"td\")[-1].get_text(strip=True)\n",
    "    \n",
    "    \n",
    "    info.append(title)\n",
    "    info.append(lat)\n",
    "    info.append(long)\n",
    "    info.append(onoff)\n",
    "    info.append(address)\n",
    "    \n",
    "    return info"
   ]
  },
  {
   "cell_type": "code",
   "execution_count": 54,
   "metadata": {},
   "outputs": [
    {
     "data": {
      "text/plain": [
       "['1001. 광진교 남단 사거리(디지털프라자앞)',\n",
       " '37.54179382',\n",
       " '127.12474823',\n",
       " '운영중',\n",
       " '서울특별시 강동구 올림픽로 674 로석빌딩']"
      ]
     },
     "execution_count": 54,
     "metadata": {},
     "output_type": "execute_result"
    }
   ],
   "source": [
    "parse_tr(trs[0])"
   ]
  },
  {
   "cell_type": "code",
   "execution_count": 55,
   "metadata": {},
   "outputs": [],
   "source": [
    "# ['대여소번호', '대여소', '거치대수', '상태', '주소', '위도', '경도'] 를 반환합니다.\n",
    "def station_info(trs):\n",
    "    rent_stations = []\n",
    "    # tr을 반복문으로 순회합니다.\n",
    "        # 대여소 정보를 담아준다.\n",
    "    for tr in trs:\n",
    "        info = parse_tr(tr)\n",
    "        rent_stations.append(info)\n",
    "\n",
    "    return rent_stations"
   ]
  },
  {
   "cell_type": "code",
   "execution_count": 56,
   "metadata": {},
   "outputs": [
    {
     "data": {
      "text/plain": [
       "[['1001. 광진교 남단 사거리(디지털프라자앞)',\n",
       "  '37.54179382',\n",
       "  '127.12474823',\n",
       "  '운영중',\n",
       "  '서울특별시 강동구 올림픽로 674 로석빌딩'],\n",
       " ['1002. 해공공원(천호동)',\n",
       "  '37.54526138',\n",
       "  '127.12594604',\n",
       "  '운영중',\n",
       "  '서울특별시 강동구 올림픽로 702 해공도서관'],\n",
       " ['1003. 해공도서관앞',\n",
       "  '37.54395676',\n",
       "  '127.12548828',\n",
       "  '운영중',\n",
       "  '서울특별시 강동구 올림픽로 702 해공도서관'],\n",
       " ['1004. 삼성광나루아파트 버스정류장',\n",
       "  '37.55332947',\n",
       "  '127.12886810',\n",
       "  '운영중',\n",
       "  '서울특별시 강동구 올림픽로 812'],\n",
       " ['1006. 롯데캐슬 115동앞',\n",
       "  '37.55486679',\n",
       "  '127.14279938',\n",
       "  '운영중',\n",
       "  '서울특별시 강동구 고덕로 131 강동 롯데캐슬퍼스트아파트']]"
      ]
     },
     "execution_count": 56,
     "metadata": {},
     "output_type": "execute_result"
    }
   ],
   "source": [
    "# station_info\n",
    "trs = html.select(\"#container > table > tbody > tr\")\n",
    "station_info(trs)"
   ]
  },
  {
   "cell_type": "code",
   "execution_count": 57,
   "metadata": {},
   "outputs": [
    {
     "data": {
      "text/plain": [
       "'https://www.bikeseoul.com/app/station/moveStationSearchView.do?currentPageNo='"
      ]
     },
     "execution_count": 57,
     "metadata": {},
     "output_type": "execute_result"
    }
   ],
   "source": [
    "base_url"
   ]
  },
  {
   "cell_type": "code",
   "execution_count": 58,
   "metadata": {},
   "outputs": [
    {
     "data": {
      "text/plain": [
       "0.7649508136655238"
      ]
     },
     "execution_count": 58,
     "metadata": {},
     "output_type": "execute_result"
    }
   ],
   "source": [
    "import numpy as np\n",
    "random_time = np.random.uniform(0, 1)\n",
    "random_time"
   ]
  },
  {
   "cell_type": "code",
   "execution_count": 59,
   "metadata": {},
   "outputs": [],
   "source": [
    "# 전체 대여소 정보를 담아줄 비어있는 리스트를 만듭니다.\n",
    "all_stations = []\n",
    "\n",
    "def crawling_rent_station(pnum):\n",
    "    # random_time 만큼 쉬었다가 크롤링합니다.\n",
    "    time.sleep(random_time)\n",
    "    \n",
    "    url = f\"{base_url}{pnum}\"\n",
    "    response = requests.get(url)\n",
    "    \n",
    "    if response.status_code == 200:\n",
    "        html = bs(response.text)\n",
    "        trs = html.select(\"#container > table > tbody > tr\")\n",
    "        return trs\n",
    "    else:\n",
    "        return False"
   ]
  },
  {
   "cell_type": "code",
   "execution_count": 60,
   "metadata": {},
   "outputs": [
    {
     "data": {
      "text/plain": [
       "<Response [200]>"
      ]
     },
     "execution_count": 60,
     "metadata": {},
     "output_type": "execute_result"
    }
   ],
   "source": [
    "requests.get(f\"{base_url}10000\")"
   ]
  },
  {
   "cell_type": "code",
   "execution_count": 61,
   "metadata": {},
   "outputs": [],
   "source": [
    "# 재귀호출을 사용하는 방법\n",
    "all_station = []\n",
    "def crawling_all_station(pnum):\n",
    "    trs = crawling_rent_station(pnum)\n",
    "    if trs :\n",
    "        stations = station_info(trs)\n",
    "        all_station.extend(stations)\n",
    "        # 결과가 정상동작한다면 다음 페이지 번호를 호출합니다.\n",
    "        pnum = pnum + 1\n",
    "        # 재귀호출 => 자기 자신을 호출합니다.\n",
    "        return crawling_all_station(pnum)\n",
    "    else:\n",
    "        # 페이지가 없다면 all_station 을 반환합니다.\n",
    "        return all_station"
   ]
  },
  {
   "cell_type": "code",
   "execution_count": 62,
   "metadata": {},
   "outputs": [
    {
     "name": "stderr",
     "output_type": "stream",
     "text": [
      "100%|██████████| 10/10 [00:14<00:00,  1.47s/it]\n"
     ]
    }
   ],
   "source": [
    "from tqdm import tqdm, trange\n",
    "# for문을 사용하는 방법\n",
    "start_page_no = 1\n",
    "end_page_no = 10\n",
    "\n",
    "# 초기화\n",
    "all_station = []\n",
    "for pnum in trange(start_page_no, end_page_no+1):\n",
    "    trs = crawling_rent_station(pnum)\n",
    "    if trs :\n",
    "        stations = station_info(trs)\n",
    "        all_station.extend(stations)\n",
    "        all_station"
   ]
  },
  {
   "cell_type": "code",
   "execution_count": 63,
   "metadata": {},
   "outputs": [],
   "source": [
    "# 재귀호출\n",
    "all_stations = crawling_all_station(406)"
   ]
  },
  {
   "cell_type": "code",
   "execution_count": 64,
   "metadata": {},
   "outputs": [
    {
     "ename": "NameError",
     "evalue": "name 'data' is not defined",
     "output_type": "error",
     "traceback": [
      "\u001b[0;31m---------------------------------------------------------------------------\u001b[0m",
      "\u001b[0;31mNameError\u001b[0m                                 Traceback (most recent call last)",
      "\u001b[0;32m<ipython-input-64-c4ad22f976ab>\u001b[0m in \u001b[0;36m<module>\u001b[0;34m\u001b[0m\n\u001b[0;32m----> 1\u001b[0;31m \u001b[0mdf\u001b[0m \u001b[0;34m=\u001b[0m \u001b[0mpd\u001b[0m\u001b[0;34m.\u001b[0m\u001b[0mDataFrame\u001b[0m\u001b[0;34m(\u001b[0m\u001b[0mdata\u001b[0m\u001b[0;34m)\u001b[0m\u001b[0;34m\u001b[0m\u001b[0;34m\u001b[0m\u001b[0m\n\u001b[0m\u001b[1;32m      2\u001b[0m \u001b[0mdf\u001b[0m\u001b[0;34m.\u001b[0m\u001b[0mhead\u001b[0m\u001b[0;34m(\u001b[0m\u001b[0;34m)\u001b[0m\u001b[0;34m\u001b[0m\u001b[0;34m\u001b[0m\u001b[0m\n",
      "\u001b[0;31mNameError\u001b[0m: name 'data' is not defined"
     ]
    }
   ],
   "source": [
    "df = pd.DataFrame(data)\n",
    "df.head()"
   ]
  },
  {
   "cell_type": "markdown",
   "metadata": {},
   "source": [
    "## 함수 동작확인"
   ]
  },
  {
   "cell_type": "code",
   "execution_count": 65,
   "metadata": {},
   "outputs": [
    {
     "data": {
      "text/plain": [
       "[<tr>\n",
       " <td class=\"pl10\"><a href=\"#\" param-data=\"37.56597900,127.04311371\">3553.마장역3번출구</a></td>\n",
       " <td class=\"pl10\">\n",
       "                         운영중</td>\n",
       " <td class=\"tr\">1</td>\n",
       " <td class=\"tr\">0</td>\n",
       " <td class=\"tbleft mhid\"><span>서울특별시 성동구 마장로 302 </span></td>\n",
       " </tr>,\n",
       " <tr>\n",
       " <td class=\"pl10\"><a href=\"#\" param-data=\"37.56681824,127.02915192\">3555.양지사거리(센트라스APT 115동앞)</a></td>\n",
       " <td class=\"pl10\">\n",
       "                         운영중</td>\n",
       " <td class=\"tr\">1</td>\n",
       " <td class=\"tr\">0</td>\n",
       " <td class=\"tbleft mhid\"><span>서울특별시 성동구 왕십리로 410 센트라스 </span></td>\n",
       " </tr>,\n",
       " <tr>\n",
       " <td class=\"pl10\"><a href=\"#\" param-data=\"37.55610657,127.01978302\">3556.신금호파크자이APT앞</a></td>\n",
       " <td class=\"pl10\">\n",
       "                         운영중</td>\n",
       " <td class=\"tr\">1</td>\n",
       " <td class=\"tr\">0</td>\n",
       " <td class=\"tbleft mhid\"><span>서울특별시 성동구 금호동2가 1-5 </span></td>\n",
       " </tr>,\n",
       " <tr>\n",
       " <td class=\"pl10\"><a href=\"#\" param-data=\"37.55653000,127.03913116\">3557.서울숲리버뷰자이APT105동 앞</a></td>\n",
       " <td class=\"pl10\">\n",
       "                         운영중</td>\n",
       " <td class=\"tr\">1</td>\n",
       " <td class=\"tr\">0</td>\n",
       " <td class=\"tbleft mhid\"><span>서울특별시 성동구 행당동 379-1 </span></td>\n",
       " </tr>,\n",
       " <tr>\n",
       " <td class=\"pl10\"><a href=\"#\" param-data=\"37.56339645,127.04187012\">3558.마장동 금호어울림APT앞</a></td>\n",
       " <td class=\"pl10\">\n",
       "                         운영중</td>\n",
       " <td class=\"tr\">1</td>\n",
       " <td class=\"tr\">0</td>\n",
       " <td class=\"tbleft mhid\"><span>서울특별시 성동구 마장동 336-11 </span></td>\n",
       " </tr>]"
      ]
     },
     "execution_count": 65,
     "metadata": {},
     "output_type": "execute_result"
    }
   ],
   "source": [
    "# 전체를 돌려보기 전에 일부만 돌려본다.\n",
    "crawling_rent_station(306)"
   ]
  },
  {
   "cell_type": "markdown",
   "metadata": {},
   "source": [
    "## 데이터 프레임으로 일부 결과 저장 확인하기"
   ]
  },
  {
   "cell_type": "code",
   "execution_count": 68,
   "metadata": {
    "scrolled": true
   },
   "outputs": [
    {
     "data": {
      "text/plain": [
       "60"
      ]
     },
     "execution_count": 68,
     "metadata": {},
     "output_type": "execute_result"
    }
   ],
   "source": [
    "header = ['대여소', '위도', '경도','상태', '주소']\n",
    "df = pd.DataFrame(all_stations,  columns = header)\n",
    "df"
   ]
  },
  {
   "cell_type": "markdown",
   "metadata": {},
   "source": [
    "## 전체 크롤링 하기"
   ]
  },
  {
   "cell_type": "code",
   "execution_count": null,
   "metadata": {},
   "outputs": [],
   "source": [
    "# 전체 코드를 돌리기 전에 다시 리스트를 비워줍니다.\n",
    "all_stations = []\n",
    "# 아래의 pnum에 1을 입력하면 1페이지부터 끝까지 가져옵니다.\n",
    "# pnum에 306 을 306페이지부터 끝까지 가져옵니다.\n",
    "pnum = 306\n",
    "# pnum = 300\n",
    "# 크롤링 함수를 호출합니다.\n",
    "crawling_all_station(pnum)"
   ]
  },
  {
   "cell_type": "code",
   "execution_count": null,
   "metadata": {},
   "outputs": [],
   "source": [
    "# 크롤링한 전체 결과를 프린트 한다.\n",
    "all_stations[:2]"
   ]
  },
  {
   "cell_type": "markdown",
   "metadata": {},
   "source": [
    "## 데이터 프레임 만들기"
   ]
  },
  {
   "cell_type": "code",
   "execution_count": null,
   "metadata": {},
   "outputs": [],
   "source": [
    "header = ['대여소번호', '대여소', '거치대수', '상태', '주소', '위도', '경도']\n"
   ]
  },
  {
   "cell_type": "code",
   "execution_count": null,
   "metadata": {
    "scrolled": true
   },
   "outputs": [],
   "source": [
    "# 미리보기 합니다.\n"
   ]
  },
  {
   "cell_type": "code",
   "execution_count": null,
   "metadata": {},
   "outputs": [],
   "source": []
  },
  {
   "cell_type": "markdown",
   "metadata": {},
   "source": [
    "## CSV 파일로 저장하고 확인하기"
   ]
  },
  {
   "cell_type": "code",
   "execution_count": null,
   "metadata": {},
   "outputs": [],
   "source": [
    "# csv 파일로 저장하기\n",
    "df.to_csv(\"seoul_bike_station.csv\", index=False)"
   ]
  },
  {
   "cell_type": "code",
   "execution_count": null,
   "metadata": {},
   "outputs": [],
   "source": [
    "# 파일이 제대로 생성되었는지 확인\n",
    "pd.read_csv(\"seoul_bike_station.csv\").head()"
   ]
  },
  {
   "cell_type": "code",
   "execution_count": null,
   "metadata": {},
   "outputs": [],
   "source": []
  }
 ],
 "metadata": {
  "kernelspec": {
   "display_name": "Python 3",
   "language": "python",
   "name": "python3"
  },
  "language_info": {
   "codemirror_mode": {
    "name": "ipython",
    "version": 3
   },
   "file_extension": ".py",
   "mimetype": "text/x-python",
   "name": "python",
   "nbconvert_exporter": "python",
   "pygments_lexer": "ipython3",
   "version": "3.7.6"
  },
  "toc": {
   "base_numbering": 1,
   "nav_menu": {},
   "number_sections": true,
   "sideBar": true,
   "skip_h1_title": false,
   "title_cell": "Table of Contents",
   "title_sidebar": "Contents",
   "toc_cell": false,
   "toc_position": {},
   "toc_section_display": true,
   "toc_window_display": false
  },
  "varInspector": {
   "cols": {
    "lenName": 16,
    "lenType": 16,
    "lenVar": 40
   },
   "kernels_config": {
    "python": {
     "delete_cmd_postfix": "",
     "delete_cmd_prefix": "del ",
     "library": "var_list.py",
     "varRefreshCmd": "print(var_dic_list())"
    },
    "r": {
     "delete_cmd_postfix": ") ",
     "delete_cmd_prefix": "rm(",
     "library": "var_list.r",
     "varRefreshCmd": "cat(var_dic_list()) "
    }
   },
   "types_to_exclude": [
    "module",
    "function",
    "builtin_function_or_method",
    "instance",
    "_Feature"
   ],
   "window_display": false
  }
 },
 "nbformat": 4,
 "nbformat_minor": 2
}
